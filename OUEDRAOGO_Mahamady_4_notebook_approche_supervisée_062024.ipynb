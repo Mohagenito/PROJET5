{
 "cells": [
  {
   "cell_type": "code",
   "execution_count": 1,
   "id": "13c410c0",
   "metadata": {},
   "outputs": [
    {
     "name": "stderr",
     "output_type": "stream",
     "text": [
      "C:\\Users\\ouedraogo080976\\AppData\\Local\\anaconda\\Lib\\site-packages\\sentence_transformers\\cross_encoder\\CrossEncoder.py:11: TqdmExperimentalWarning: Using `tqdm.autonotebook.tqdm` in notebook mode. Use `tqdm.tqdm` instead to force console mode (e.g. in jupyter console)\n",
      "  from tqdm.autonotebook import tqdm, trange\n"
     ]
    },
    {
     "name": "stdout",
     "output_type": "stream",
     "text": [
      "WARNING:tensorflow:From C:\\Users\\ouedraogo080976\\AppData\\Local\\anaconda\\Lib\\site-packages\\tf_keras\\src\\losses.py:2976: The name tf.losses.sparse_softmax_cross_entropy is deprecated. Please use tf.compat.v1.losses.sparse_softmax_cross_entropy instead.\n",
      "\n"
     ]
    },
    {
     "name": "stderr",
     "output_type": "stream",
     "text": [
      "C:\\Users\\ouedraogo080976\\AppData\\Local\\Temp\\ipykernel_14812\\1184527746.py:39: DeprecationWarning: Importing display from IPython.core.display is deprecated since IPython 7.14, please import from IPython display\n",
      "  from IPython.core.display import display, HTML\n"
     ]
    }
   ],
   "source": [
    "# Import des bibliothèques de base pour la manipulation des données et les visualisations\n",
    "import numpy as np\n",
    "import pandas as pd\n",
    "import matplotlib.pyplot as plt\n",
    "import seaborn as sns\n",
    "\n",
    "# Import des bibliothèques de traitement de texte\n",
    "import nltk\n",
    "from nltk.tokenize import word_tokenize\n",
    "from nltk.corpus import stopwords\n",
    "from nltk.stem import WordNetLemmatizer\n",
    "from nltk.corpus import wordnet\n",
    "from bs4 import BeautifulSoup\n",
    "import re\n",
    "import os\n",
    "\n",
    "# Import des bibliothèques pour la modélisation et le traitement de texte avancé\n",
    "from collections import Counter\n",
    "from sklearn.feature_extraction.text import CountVectorizer\n",
    "import sentence_transformers\n",
    "from sentence_transformers import SentenceTransformer\n",
    "import torch\n",
    "import itertools\n",
    "import gensim\n",
    "\n",
    "# Import des bibliothèques pour le prétraitement et la modélisation des données\n",
    "from sklearn.preprocessing import MultiLabelBinarizer\n",
    "from sklearn.model_selection import train_test_split\n",
    "from sklearn.multioutput import ClassifierChain\n",
    "from sklearn.multiclass import OneVsRestClassifier\n",
    "from sklearn.linear_model import LogisticRegression\n",
    "from sklearn.decomposition import LatentDirichletAllocation\n",
    "import sklearn.metrics as metrics\n",
    "from sklearn.model_selection import GridSearchCV, RandomizedSearchCV\n",
    "\n",
    "# Import des bibliothèques pour la visualisation de modèles et l'affichage dans Jupyter Notebook\n",
    "import pyLDAvis\n",
    "import pyLDAvis.gensim_models as gensimvis\n",
    "from IPython.core.display import display, HTML\n",
    "\n",
    "# Import des bibliothèques pour la sauvegarde et le chargement de modèles\n",
    "import pickle\n",
    "from gensim.models import FastText\n",
    "from gensim.models.doc2vec import Doc2Vec, TaggedDocument\n",
    "\n",
    "# Import des bibliothèques pour l'évaluation des modèles\n",
    "from sklearn.metrics import classification_report\n",
    "from sklearn.cluster import KMeans\n",
    "from sklearn.metrics import silhouette_score\n",
    "from sklearn.feature_extraction.text import CountVectorizer\n",
    "from sklearn.metrics import accuracy_score, f1_score\n",
    "\n",
    "# Import des bibliothèques pour le suivi des expériences de machine learning\n",
    "import mlflow\n",
    "import mlflow.sklearn\n",
    "import mlflow.pytorch\n",
    "import mlflow.tensorflow\n",
    "\n",
    "# Import des bibliothèques pour le traitement du langage naturel avec Transformers\n",
    "from transformers import BertTokenizer, BertModel\n",
    "\n",
    "# Import des bibliothèques pour l'utilisation de TensorFlow et TensorFlow Hub\n",
    "import tensorflow_hub as hub\n",
    "import tensorflow as tf\n"
   ]
  },
  {
   "cell_type": "code",
   "execution_count": 2,
   "id": "913652eb-ab90-4a1f-984f-5dbf4dad9a10",
   "metadata": {},
   "outputs": [
    {
     "name": "stderr",
     "output_type": "stream",
     "text": [
      "[nltk_data] Downloading package punkt to\n",
      "[nltk_data]     C:\\Users\\ouedraogo080976\\AppData\\Roaming\\nltk_data...\n",
      "[nltk_data]   Package punkt is already up-to-date!\n",
      "[nltk_data] Downloading package wordnet to\n",
      "[nltk_data]     C:\\Users\\ouedraogo080976\\AppData\\Roaming\\nltk_data...\n",
      "[nltk_data]   Package wordnet is already up-to-date!\n",
      "[nltk_data] Downloading package averaged_perceptron_tagger to\n",
      "[nltk_data]     C:\\Users\\ouedraogo080976\\AppData\\Roaming\\nltk_data...\n",
      "[nltk_data]   Package averaged_perceptron_tagger is already up-to-\n",
      "[nltk_data]       date!\n",
      "[nltk_data] Downloading package stopwords to\n",
      "[nltk_data]     C:\\Users\\ouedraogo080976\\AppData\\Roaming\\nltk_data...\n",
      "[nltk_data]   Package stopwords is already up-to-date!\n"
     ]
    },
    {
     "data": {
      "text/plain": [
       "True"
      ]
     },
     "execution_count": 2,
     "metadata": {},
     "output_type": "execute_result"
    }
   ],
   "source": [
    "# Téléchargement de la ressource nécessaire pour nltk\n",
    "nltk.download('punkt')\n",
    "nltk.download('wordnet')\n",
    "nltk.download('averaged_perceptron_tagger')\n",
    "nltk.download('stopwords')"
   ]
  },
  {
   "cell_type": "code",
   "execution_count": 3,
   "id": "c0b32c84-ac85-47db-bcdf-321330d64a6c",
   "metadata": {},
   "outputs": [
    {
     "data": {
      "text/html": [
       "<div>\n",
       "<style scoped>\n",
       "    .dataframe tbody tr th:only-of-type {\n",
       "        vertical-align: middle;\n",
       "    }\n",
       "\n",
       "    .dataframe tbody tr th {\n",
       "        vertical-align: top;\n",
       "    }\n",
       "\n",
       "    .dataframe thead th {\n",
       "        text-align: right;\n",
       "    }\n",
       "</style>\n",
       "<table border=\"1\" class=\"dataframe\">\n",
       "  <thead>\n",
       "    <tr style=\"text-align: right;\">\n",
       "      <th></th>\n",
       "      <th>Unnamed: 0</th>\n",
       "      <th>TitleBody</th>\n",
       "      <th>new_tags</th>\n",
       "      <th>TitleBody_bow</th>\n",
       "      <th>TitleBody_bow_lem</th>\n",
       "      <th>TitleBody_dl</th>\n",
       "    </tr>\n",
       "  </thead>\n",
       "  <tbody>\n",
       "    <tr>\n",
       "      <th>0</th>\n",
       "      <td>0</td>\n",
       "      <td>How to convert Decimal to Double in C\\n\\nI wan...</td>\n",
       "      <td>['c#']</td>\n",
       "      <td>how convert decimal double want assign decimal...</td>\n",
       "      <td>how convert decimal double want assign decimal...</td>\n",
       "      <td>how to convert decimal to double in c i want t...</td>\n",
       "    </tr>\n",
       "    <tr>\n",
       "      <th>1</th>\n",
       "      <td>1</td>\n",
       "      <td>Calculate relative time in C\\n\\nGiven a specif...</td>\n",
       "      <td>['c#']</td>\n",
       "      <td>calculate relative time given specific datetim...</td>\n",
       "      <td>calculate relative time given specific datetim...</td>\n",
       "      <td>calculate relative time in c given a specific ...</td>\n",
       "    </tr>\n",
       "    <tr>\n",
       "      <th>2</th>\n",
       "      <td>2</td>\n",
       "      <td>Determine a user s timezone\\n\\nIs there a stan...</td>\n",
       "      <td>['html']</td>\n",
       "      <td>determine user timezone standard way web serve...</td>\n",
       "      <td>determine user timezone standard way web serve...</td>\n",
       "      <td>determine a user s timezone is there a standar...</td>\n",
       "    </tr>\n",
       "    <tr>\n",
       "      <th>3</th>\n",
       "      <td>4</td>\n",
       "      <td>How to use the C socket API in C   on z OS\\n\\n...</td>\n",
       "      <td>['c++', 'c']</td>\n",
       "      <td>how use socket api issues getting sockets api ...</td>\n",
       "      <td>how use socket api issue getting socket api wo...</td>\n",
       "      <td>how to use the c socket api in c on z os i m h...</td>\n",
       "    </tr>\n",
       "    <tr>\n",
       "      <th>4</th>\n",
       "      <td>6</td>\n",
       "      <td>Decoding T SQL CAST in C  VB NET\\n\\nRecently o...</td>\n",
       "      <td>['c#']</td>\n",
       "      <td>decoding sql cast net recently site deluged re...</td>\n",
       "      <td>decoding sql cast net recently site deluged re...</td>\n",
       "      <td>decoding t sql cast in c vb net recently our s...</td>\n",
       "    </tr>\n",
       "  </tbody>\n",
       "</table>\n",
       "</div>"
      ],
      "text/plain": [
       "   Unnamed: 0                                          TitleBody  \\\n",
       "0           0  How to convert Decimal to Double in C\\n\\nI wan...   \n",
       "1           1  Calculate relative time in C\\n\\nGiven a specif...   \n",
       "2           2  Determine a user s timezone\\n\\nIs there a stan...   \n",
       "3           4  How to use the C socket API in C   on z OS\\n\\n...   \n",
       "4           6  Decoding T SQL CAST in C  VB NET\\n\\nRecently o...   \n",
       "\n",
       "       new_tags                                      TitleBody_bow  \\\n",
       "0        ['c#']  how convert decimal double want assign decimal...   \n",
       "1        ['c#']  calculate relative time given specific datetim...   \n",
       "2      ['html']  determine user timezone standard way web serve...   \n",
       "3  ['c++', 'c']  how use socket api issues getting sockets api ...   \n",
       "4        ['c#']  decoding sql cast net recently site deluged re...   \n",
       "\n",
       "                                   TitleBody_bow_lem  \\\n",
       "0  how convert decimal double want assign decimal...   \n",
       "1  calculate relative time given specific datetim...   \n",
       "2  determine user timezone standard way web serve...   \n",
       "3  how use socket api issue getting socket api wo...   \n",
       "4  decoding sql cast net recently site deluged re...   \n",
       "\n",
       "                                        TitleBody_dl  \n",
       "0  how to convert decimal to double in c i want t...  \n",
       "1  calculate relative time in c given a specific ...  \n",
       "2  determine a user s timezone is there a standar...  \n",
       "3  how to use the c socket api in c on z os i m h...  \n",
       "4  decoding t sql cast in c vb net recently our s...  "
      ]
     },
     "execution_count": 3,
     "metadata": {},
     "output_type": "execute_result"
    }
   ],
   "source": [
    "data = pd.read_csv('dataclean.csv')\n",
    "data.head()"
   ]
  },
  {
   "cell_type": "code",
   "execution_count": null,
   "id": "08cbc4d6-d678-407d-9598-40d996c830e2",
   "metadata": {},
   "outputs": [],
   "source": []
  },
  {
   "cell_type": "markdown",
   "id": "22b1e151-97a6-478e-8447-6276b802c034",
   "metadata": {},
   "source": [
    "### Bag of Words"
   ]
  },
  {
   "cell_type": "markdown",
   "id": "2fbccfbb-f763-4f8d-87a7-894f7260f97f",
   "metadata": {},
   "source": [
    "Le modèle Bag of Words apprend un vocabulaire à partir de tous les documents, puis modélise chaque document en comptant le nombre de fois où chaque mot apparaît, convertissant donc les données textuelles en données numériques.\n",
    "\n",
    "Le modèle Bag of Words est une approche simple pour représenter des textes en tant que vecteurs numériques. \n",
    "\n",
    "Dans ce modèle, un texte est représenté par un vecteur où chaque dimension correspond à un mot unique du vocabulaire et la valeur de chaque dimension représente la fréquence d'apparition de ce mot dans le texte. \n",
    "\n",
    "Le modèle ignore la structure grammaticale et l'ordre des mots, se concentrant uniquement sur les mots eux-mêmes et leur fréquence.\n",
    "\n",
    "Nous utilisons CountVectorizer pour transformer les textes en représentations vectorielles, puis comptons la fréquence des tokens."
   ]
  },
  {
   "cell_type": "code",
   "execution_count": 19,
   "id": "580d4a5c-007e-461a-aa58-6a1cc2aa418c",
   "metadata": {},
   "outputs": [
    {
     "name": "stdout",
     "output_type": "stream",
     "text": [
      "[('java', 31741), ('class', 27999), ('android', 27682), ('file', 26248), ('using', 26120), ('code', 22557), ('error', 21414), ('new', 20720), ('get', 20540), ('return', 19876)]\n"
     ]
    }
   ],
   "source": [
    "# Initialiser le vectorizer\n",
    "vectorizer = CountVectorizer()\n",
    "\n",
    "# Ajuster et transformer les données\n",
    "X_bow = vectorizer.fit_transform(data['TitleBody_bow_lem'])\n",
    "\n",
    "# Récupérer les mots du vocabulaire\n",
    "vocab = vectorizer.get_feature_names_out()\n",
    "\n",
    "# Compter la fréquence des tokens\n",
    "token_counts = X_bow.toarray().sum(axis=0)\n",
    "token_freq = dict(zip(vocab, token_counts))\n",
    "\n",
    "# Trier les tokens par fréquence décroissante\n",
    "sorted_token_freq = sorted(token_freq.items(), key=lambda x: x[1], reverse=True)\n",
    "\n",
    "# Afficher les 10 tokens lemmatisés les plus fréquents\n",
    "print(sorted_token_freq[:10])"
   ]
  },
  {
   "cell_type": "code",
   "execution_count": 20,
   "id": "5c9c598e-c088-4d8a-a1a8-495ab6cdce77",
   "metadata": {},
   "outputs": [
    {
     "data": {
      "image/png": "[encoded data removed]",
      "text/plain": [
       "<Figure size 1000x500 with 1 Axes>"
      ]
     },
     "metadata": {},
     "output_type": "display_data"
    }
   ],
   "source": [
    "# Extraire les tokens et leurs fréquences\n",
    "tokens, counts = zip(*sorted_token_freq[:10])\n",
    "\n",
    "# Créer le graphique à barres\n",
    "plt.figure(figsize=(10, 5))\n",
    "plt.bar(tokens, counts, color='skyblue')\n",
    "plt.xlabel('Tokens')\n",
    "plt.ylabel('Frequency')\n",
    "plt.title('Top 10 Lemmatized Tokens (Bag of Words)')\n",
    "plt.show()"
   ]
  },
  {
   "cell_type": "code",
   "execution_count": null,
   "id": "bb1cd6e8-489a-4ef8-b458-ab0744b37d76",
   "metadata": {},
   "outputs": [],
   "source": []
  },
  {
   "cell_type": "markdown",
   "id": "a254ac8f-b6f9-40ba-b0a8-d6c62d7e73b1",
   "metadata": {},
   "source": [
    "## APPROCHE SUPERVISEE: Régression logistique avec multi-labels, logisitic regression + classifier chain "
   ]
  },
  {
   "cell_type": "markdown",
   "id": "5dc9d835-854c-4e91-afd9-f419ab6a2146",
   "metadata": {},
   "source": [
    "La régression logistique et les chaînes de classifieurs sont souvent utilisées ensemble pour résoudre des problèmes de classification multi-étiquettes\n",
    "\n",
    "**Régression Logistique**\n",
    "\n",
    "La régression logistique est une méthode d'analyse de régression utilisée pour prédire l'issue d'une variable dépendante catégorielle à partir d'une ou plusieurs variables prédictives. Elle est principalement utilisée pour la classification binaire, mais peut être étendue à la classification multi-classes en utilisant des techniques comme \"one-vs-rest\" (OvR) ou \"one-vs-one\" (OvO).\n",
    "\n",
    "**Chaîne de Classifieurs**\n",
    "\n",
    "La chaîne de classifieurs est une méthode pour traiter les problèmes de classification multi-étiquettes. Elle consiste à entraîner une séquence de classifieurs, chaque classifieur s'occupant d'un problème de classification binaire. L'idée clé est d'utiliser les prédictions des classifieurs précédents comme caractéristiques supplémentaires pour les classifieurs suivants\n",
    "\n",
    "\n",
    "**Comment Ils Fonctionnent Ensemble**\n",
    "\n",
    "**Séquence de Classifieurs** : Dans une chaîne de classifieurs, vous entraînez un modèle de régression logistique pour chaque étiquette. L'ordre des classifieurs est généralement choisi de manière arbitraire ou basé sur une heuristique.\n",
    "\n",
    "**Extension des Caractéristiques** : Lors de la prédiction des étiquettes pour une nouvelle instance, le premier modèle de régression logistique prédit la première étiquette. Cette prédiction est ensuite utilisée comme une caractéristique supplémentaire pour le deuxième modèle de régression logistique, qui prédit la deuxième étiquette, et ainsi de suite.\n",
    "\n",
    "**Prédiction** : Pendant la prédiction, la chaîne de classifieurs fait des prédictions séquentiellement, chaque modèle utilisant les prédictions des modèles précédents comme caractéristiques d'entrée supplémentaires."
   ]
  },
  {
   "cell_type": "markdown",
   "id": "5784194a-911d-490f-b606-354ec38c0899",
   "metadata": {},
   "source": [
    "### Contexte\n",
    "Nous allons ici développer un algorithme de Machine Learning destiné à assigner automatiquement plusieurs tags pertinents à une question posée sur le célébre site Stack overflow.     \n",
    "Ce programme s'adresse principalement aux nouveaux utilisateurs, afin de leur suggérer quelques tags relatifs à la question qu'ils souhaitent poser.\n",
    "\n",
    "### Les données sources\n",
    "Les données ont été cleanées dans le Notebook Exploration Dans ce nettoyage ont par exemple été appliquées les techniques de stop words, suppression de la ponctuation et des liens, tokenisation, lemmatisation ...\n",
    "\n",
    "### Objectif de ce Notebook\n",
    "Dans ce Notebook, nous allons traiter la partie **modélisation des données textuelles avec des modèles  supervisés**.   "
   ]
  },
  {
   "cell_type": "markdown",
   "id": "b94af65d-ed20-4582-a4c6-d30038a95020",
   "metadata": {},
   "source": [
    "### Bag of Words"
   ]
  },
  {
   "cell_type": "markdown",
   "id": "2699e3f1-2db4-4d79-9e85-a5f11f3e4a45",
   "metadata": {},
   "source": [
    "Le modèle Bag of Words est une approche simple pour représenter des textes en tant que vecteurs numériques. \n",
    "\n",
    "Dans ce modèle, un texte est représenté par un vecteur où chaque dimension correspond à un mot unique du vocabulaire et la valeur de chaque dimension représente la fréquence d'apparition de ce mot dans le texte. \n",
    "\n",
    "Le modèle ignore la structure grammaticale et l'ordre des mots, se concentrant uniquement sur les mots eux-mêmes et leur fréquence."
   ]
  },
  {
   "cell_type": "code",
   "execution_count": null,
   "id": "d2b67fed-586a-4306-b838-278408fa36d0",
   "metadata": {},
   "outputs": [],
   "source": []
  },
  {
   "cell_type": "code",
   "execution_count": 24,
   "id": "64ab0d4b-cc5b-495a-bed9-bbb2210354c4",
   "metadata": {},
   "outputs": [
    {
     "data": {
      "text/plain": [
       "array([[0, 0, 1, ..., 0, 0, 0],\n",
       "       [0, 0, 1, ..., 0, 0, 0],\n",
       "       [0, 0, 0, ..., 0, 0, 0],\n",
       "       ...,\n",
       "       [0, 0, 0, ..., 0, 0, 0],\n",
       "       [0, 0, 0, ..., 1, 0, 0],\n",
       "       [1, 0, 0, ..., 0, 0, 0]])"
      ]
     },
     "execution_count": 24,
     "metadata": {},
     "output_type": "execute_result"
    }
   ],
   "source": [
    "# Initialize the MultiLabelBinarizer\n",
    "mlb = MultiLabelBinarizer()\n",
    "\n",
    "# Fit and transform the list of categories to a binary matrix\n",
    "Y = mlb.fit_transform(data['new_tags'])\n",
    "Y"
   ]
  },
  {
   "cell_type": "code",
   "execution_count": 25,
   "id": "d9f25bc0-81f1-45a7-8210-611f59cc05ac",
   "metadata": {},
   "outputs": [],
   "source": [
    "# Split data into training and test sets\n",
    "X_train, X_test, y_train, y_test = train_test_split(X_bow, Y, test_size=0.2, random_state=42)"
   ]
  },
  {
   "cell_type": "code",
   "execution_count": 26,
   "id": "a29983d0",
   "metadata": {},
   "outputs": [
    {
     "name": "stderr",
     "output_type": "stream",
     "text": [
      "C:\\Users\\ouedraogo080976\\AppData\\Local\\anaconda\\Lib\\site-packages\\sklearn\\linear_model\\_logistic.py:469: ConvergenceWarning: lbfgs failed to converge (status=1):\n",
      "STOP: TOTAL NO. of ITERATIONS REACHED LIMIT.\n",
      "\n",
      "Increase the number of iterations (max_iter) or scale the data as shown in:\n",
      "    https://scikit-learn.org/stable/modules/preprocessing.html\n",
      "Please also refer to the documentation for alternative solver options:\n",
      "    https://scikit-learn.org/stable/modules/linear_model.html#logistic-regression\n",
      "  n_iter_i = _check_optimize_result(\n",
      "C:\\Users\\ouedraogo080976\\AppData\\Local\\anaconda\\Lib\\site-packages\\sklearn\\linear_model\\_logistic.py:469: ConvergenceWarning: lbfgs failed to converge (status=1):\n",
      "STOP: TOTAL NO. of ITERATIONS REACHED LIMIT.\n",
      "\n",
      "Increase the number of iterations (max_iter) or scale the data as shown in:\n",
      "    https://scikit-learn.org/stable/modules/preprocessing.html\n",
      "Please also refer to the documentation for alternative solver options:\n",
      "    https://scikit-learn.org/stable/modules/linear_model.html#logistic-regression\n",
      "  n_iter_i = _check_optimize_result(\n",
      "C:\\Users\\ouedraogo080976\\AppData\\Local\\anaconda\\Lib\\site-packages\\sklearn\\linear_model\\_logistic.py:469: ConvergenceWarning: lbfgs failed to converge (status=1):\n",
      "STOP: TOTAL NO. of ITERATIONS REACHED LIMIT.\n",
      "\n",
      "Increase the number of iterations (max_iter) or scale the data as shown in:\n",
      "    https://scikit-learn.org/stable/modules/preprocessing.html\n",
      "Please also refer to the documentation for alternative solver options:\n",
      "    https://scikit-learn.org/stable/modules/linear_model.html#logistic-regression\n",
      "  n_iter_i = _check_optimize_result(\n"
     ]
    },
    {
     "name": "stdout",
     "output_type": "stream",
     "text": [
      "Chain Accuracy: 0.6938931297709924\n",
      "Chain F1 Score: 0.8012896894932361\n"
     ]
    }
   ],
   "source": [
    "# Initialize the base classifier\n",
    "base_classifier = LogisticRegression()\n",
    "\n",
    "# Initialize the Classifier Chain\n",
    "chain = ClassifierChain(base_classifier)\n",
    "\n",
    "# Fit the model\n",
    "chain.fit(X_train, y_train)\n",
    "\n",
    "# Make predictions\n",
    "y_pred_chain = chain.predict(X_test)\n",
    "\n",
    "# Evaluate the model\n",
    "accuracy_chain = accuracy_score(y_test, y_pred_chain)\n",
    "f1_chain = f1_score(y_test, y_pred_chain, average='micro')\n",
    "\n",
    "print(f\"Chain Accuracy: {accuracy_chain}\")\n",
    "print(f\"Chain F1 Score: {f1_chain}\")"
   ]
  },
  {
   "cell_type": "code",
   "execution_count": null,
   "id": "41aacf71-b51a-4adc-a842-b74e250ca5ff",
   "metadata": {},
   "outputs": [],
   "source": []
  },
  {
   "cell_type": "markdown",
   "id": "c4736d7a-513c-4277-8fe8-fcd6efc388a1",
   "metadata": {},
   "source": [
    "### mlflow"
   ]
  },
  {
   "cell_type": "markdown",
   "id": "25bfa758-c862-4608-ba7a-88347eed1a78",
   "metadata": {},
   "source": [
    "MLflow est une plateforme open source conçue pour rationaliser le cycle de vie de l'apprentissage automatique, englobant les étapes allant de la préparation des données au déploiement et au-delà. \n",
    "\n",
    "Elle propose une suite d'outils pour gérer ce cycle de vie, en mettant l'accent sur la reproductibilité, l'évolutivité et la collaboration\n",
    "\n",
    "MFFLOW permet de gerer tous les processus de création de modèle de machine learning."
   ]
  },
  {
   "cell_type": "code",
   "execution_count": 27,
   "id": "7d149050-390c-44f3-be23-317abc0e67ab",
   "metadata": {},
   "outputs": [
    {
     "name": "stderr",
     "output_type": "stream",
     "text": [
      "C:\\Users\\ouedraogo080976\\AppData\\Local\\anaconda\\Lib\\site-packages\\sklearn\\linear_model\\_logistic.py:469: ConvergenceWarning: lbfgs failed to converge (status=1):\n",
      "STOP: TOTAL NO. of ITERATIONS REACHED LIMIT.\n",
      "\n",
      "Increase the number of iterations (max_iter) or scale the data as shown in:\n",
      "    https://scikit-learn.org/stable/modules/preprocessing.html\n",
      "Please also refer to the documentation for alternative solver options:\n",
      "    https://scikit-learn.org/stable/modules/linear_model.html#logistic-regression\n",
      "  n_iter_i = _check_optimize_result(\n",
      "C:\\Users\\ouedraogo080976\\AppData\\Local\\anaconda\\Lib\\site-packages\\sklearn\\linear_model\\_logistic.py:469: ConvergenceWarning: lbfgs failed to converge (status=1):\n",
      "STOP: TOTAL NO. of ITERATIONS REACHED LIMIT.\n",
      "\n",
      "Increase the number of iterations (max_iter) or scale the data as shown in:\n",
      "    https://scikit-learn.org/stable/modules/preprocessing.html\n",
      "Please also refer to the documentation for alternative solver options:\n",
      "    https://scikit-learn.org/stable/modules/linear_model.html#logistic-regression\n",
      "  n_iter_i = _check_optimize_result(\n",
      "C:\\Users\\ouedraogo080976\\AppData\\Local\\anaconda\\Lib\\site-packages\\sklearn\\linear_model\\_logistic.py:469: ConvergenceWarning: lbfgs failed to converge (status=1):\n",
      "STOP: TOTAL NO. of ITERATIONS REACHED LIMIT.\n",
      "\n",
      "Increase the number of iterations (max_iter) or scale the data as shown in:\n",
      "    https://scikit-learn.org/stable/modules/preprocessing.html\n",
      "Please also refer to the documentation for alternative solver options:\n",
      "    https://scikit-learn.org/stable/modules/linear_model.html#logistic-regression\n",
      "  n_iter_i = _check_optimize_result(\n",
      "C:\\Users\\ouedraogo080976\\AppData\\Local\\anaconda\\Lib\\site-packages\\mlflow\\models\\model.py:321: DeprecationWarning: datetime.datetime.utcnow() is deprecated and scheduled for removal in a future version. Use timezone-aware objects to represent datetimes in UTC: datetime.datetime.now(datetime.UTC).\n",
      "  self.utc_time_created = str(utc_time_created or datetime.utcnow())\n"
     ]
    },
    {
     "name": "stdout",
     "output_type": "stream",
     "text": [
      "Chain Accuracy: 0.6938931297709924\n",
      "Chain F1 Score: 0.8012896894932361\n"
     ]
    }
   ],
   "source": [
    "# Définir l'URI de suivi MLflow et le nom de l'expérience\n",
    "mlflow.set_tracking_uri(\"http://127.0.0.1:5000\")  # Définir l'URI de suivi MLflow\n",
    "mlflow.set_experiment(\"Bag of Words Supervised\")  # Définir le nom de votre expérience MLflow\n",
    "\n",
    "# Assurez-vous que les données X_bow et data['new_tags'] sont définies avant cette section.\n",
    "\n",
    "# Binariser les labels\n",
    "mlb = MultiLabelBinarizer()\n",
    "Y = mlb.fit_transform(data['new_tags'])\n",
    "\n",
    "# Séparer les données en ensembles d'entraînement et de test\n",
    "X_train, X_test, y_train, y_test = train_test_split(X_bow, Y, test_size=0.2, random_state=42)\n",
    "\n",
    "# Initialiser le classifieur de base\n",
    "base_classifier = LogisticRegression()\n",
    "\n",
    "# Initialiser la chaîne de classifieurs\n",
    "chain = ClassifierChain(base_classifier)\n",
    "\n",
    "# Débuter une nouvelle session de suivi avec MLflow\n",
    "with mlflow.start_run():\n",
    "    # Entraîner le modèle\n",
    "    chain.fit(X_train, y_train)\n",
    "\n",
    "    # Faire des prédictions\n",
    "    y_pred_chain = chain.predict(X_test)\n",
    "\n",
    "    # Évaluer le modèle\n",
    "    accuracy_chain = accuracy_score(y_test, y_pred_chain)\n",
    "    f1_chain = f1_score(y_test, y_pred_chain, average='micro')\n",
    "\n",
    "    # Enregistrer les métriques dans MLflow\n",
    "    mlflow.log_metric(\"accuracy\", accuracy_chain)\n",
    "    mlflow.log_metric(\"f1_score\", f1_chain)\n",
    "\n",
    "    # Enregistrer le modèle dans MLflow\n",
    "    mlflow.sklearn.log_model(chain, \"model\")\n",
    "\n",
    "    print(f\"Chain Accuracy: {accuracy_chain}\")\n",
    "    print(f\"Chain F1 Score: {f1_chain}\")\n",
    "\n",
    "# Pour visualiser les résultats, exécutez `mlflow ui` dans votre terminal et allez à l'adresse http://localhost:5000."
   ]
  },
  {
   "cell_type": "code",
   "execution_count": null,
   "id": "897085ff-f224-49e5-9c28-e27108f3857c",
   "metadata": {},
   "outputs": [],
   "source": []
  },
  {
   "cell_type": "markdown",
   "id": "62f3c9af-cbcf-4bba-90fb-2d8fa2b8a79d",
   "metadata": {},
   "source": [
    "### SBERT"
   ]
  },
  {
   "cell_type": "markdown",
   "id": "ed3f8525-70ab-4652-af7c-3b3b7786dc4e",
   "metadata": {},
   "source": [
    "SBERT (Sentence-BERT) est une méthode pour comprendre la similarité entre phrases. Au lieu de juste regarder des mots individuellement, SBERT regarde une phrase entière et la transforme en un vecteur (une série de nombres). Ensuite, il compare ces vecteurs pour dire à quel point deux phrases sont similaires."
   ]
  },
  {
   "cell_type": "code",
   "execution_count": 28,
   "id": "7b979307-eea3-42fb-9138-5d616f2c3ef4",
   "metadata": {},
   "outputs": [],
   "source": [
    "sentences = data['TitleBody_dl'].values.tolist()\n",
    "\n",
    "# Charger le modèle SBERT\n",
    "model_name = 'all-MiniLM-L6-v2'\n",
    "model = SentenceTransformer(model_name)\n",
    "\n",
    "# Encoder les phrases avec SBERT\n",
    "SBERT = model.encode(sentences)"
   ]
  },
  {
   "cell_type": "code",
   "execution_count": 29,
   "id": "450ae408-baba-461b-9251-030572574d31",
   "metadata": {},
   "outputs": [
    {
     "data": {
      "text/plain": [
       "(32749, 384)"
      ]
     },
     "execution_count": 29,
     "metadata": {},
     "output_type": "execute_result"
    }
   ],
   "source": [
    "SBERT.shape"
   ]
  },
  {
   "cell_type": "code",
   "execution_count": 30,
   "id": "1ed76f13-a967-4a9d-ad22-849d92af8dbd",
   "metadata": {},
   "outputs": [
    {
     "name": "stdout",
     "output_type": "stream",
     "text": [
      "Chain Accuracy: 0.7570992366412214\n",
      "Chain F1 Score: 0.8317010488296173\n"
     ]
    }
   ],
   "source": [
    "# Diviser les données en ensembles d'entraînement et de test\n",
    "X_train, X_test, y_train, y_test = train_test_split(SBERT, Y, test_size=0.2, random_state=42)\n",
    "\n",
    "# Initialiser le classifieur de base\n",
    "base_classifier = LogisticRegression()\n",
    "\n",
    "# Initialiser la Classifier Chain avec le classifieur de base\n",
    "chain_classifier = ClassifierChain(base_classifier)\n",
    "\n",
    "# Entraîner le modèle\n",
    "chain_classifier.fit(X_train, y_train)\n",
    "\n",
    "# Faire des prédictions\n",
    "y_pred_chain = chain_classifier.predict(X_test)\n",
    "\n",
    "# Evaluate the model\n",
    "accuracy_chain = accuracy_score(y_test, y_pred_chain)\n",
    "f1_chain = f1_score(y_test, y_pred_chain, average='micro')\n",
    "\n",
    "print(f\"Chain Accuracy: {accuracy_chain}\")\n",
    "print(f\"Chain F1 Score: {f1_chain}\")"
   ]
  },
  {
   "cell_type": "code",
   "execution_count": 31,
   "id": "dbba862f-f519-40dc-8982-71d183258abc",
   "metadata": {},
   "outputs": [
    {
     "name": "stderr",
     "output_type": "stream",
     "text": [
      "C:\\Users\\ouedraogo080976\\AppData\\Local\\anaconda\\Lib\\site-packages\\mlflow\\models\\model.py:321: DeprecationWarning: datetime.datetime.utcnow() is deprecated and scheduled for removal in a future version. Use timezone-aware objects to represent datetimes in UTC: datetime.datetime.now(datetime.UTC).\n",
      "  self.utc_time_created = str(utc_time_created or datetime.utcnow())\n"
     ]
    },
    {
     "name": "stdout",
     "output_type": "stream",
     "text": [
      "Chain Accuracy: 0.7570992366412214\n",
      "Chain F1 Score: 0.8317010488296173\n"
     ]
    }
   ],
   "source": [
    "# Définir l'URI de suivi MLflow et le nom de l'expérience\n",
    "mlflow.set_tracking_uri(\"http://127.0.0.1:5000\")  # Définir l'URI de suivi MLflow\n",
    "mlflow.set_experiment(\"SBERT_Supervised\")  # Définir le nom de votre expérience MLflow\n",
    "\n",
    "# Charger les phrases et les encoder avec SBERT\n",
    "sentences = data['TitleBody_dl'].values.tolist()\n",
    "model_name = 'all-MiniLM-L6-v2'\n",
    "model = SentenceTransformer(model_name)\n",
    "SBERT = model.encode(sentences)\n",
    "\n",
    "# Binariser les labels\n",
    "mlb = MultiLabelBinarizer()\n",
    "Y = mlb.fit_transform(data['new_tags'])\n",
    "\n",
    "# Diviser les données en ensembles d'entraînement et de test\n",
    "X_train, X_test, y_train, y_test = train_test_split(SBERT, Y, test_size=0.2, random_state=42)\n",
    "\n",
    "# Initialiser le classifieur de base\n",
    "base_classifier = LogisticRegression()\n",
    "\n",
    "# Initialiser la Classifier Chain avec le classifieur de base\n",
    "chain_classifier = ClassifierChain(base_classifier)\n",
    "\n",
    "# Débuter une nouvelle session de suivi avec MLflow\n",
    "with mlflow.start_run():\n",
    "    # Entraîner le modèle\n",
    "    chain_classifier.fit(X_train, y_train)\n",
    "\n",
    "    # Faire des prédictions\n",
    "    y_pred_chain = chain_classifier.predict(X_test)\n",
    "\n",
    "    # Évaluer le modèle\n",
    "    accuracy_chain = accuracy_score(y_test, y_pred_chain)\n",
    "    f1_chain = f1_score(y_test, y_pred_chain, average='micro')\n",
    "\n",
    "    # Enregistrer les métriques dans MLflow\n",
    "    mlflow.log_metric(\"accuracy\", accuracy_chain)\n",
    "    mlflow.log_metric(\"f1_score\", f1_chain)\n",
    "\n",
    "    # Enregistrer le modèle de chaîne de classifieurs dans MLflow\n",
    "    mlflow.sklearn.log_model(chain_classifier, \"chain_classifier\")\n",
    "\n",
    "    # Sauvegarder et enregistrer le modèle SBERT\n",
    "    model_path = \"sbert_model.pkl\"\n",
    "    with open(model_path, 'wb') as f:\n",
    "        pickle.dump(model, f)\n",
    "    \n",
    "    mlflow.log_artifact(model_path)\n",
    "\n",
    "    print(f\"Chain Accuracy: {accuracy_chain}\")\n",
    "    print(f\"Chain F1 Score: {f1_chain}\")\n",
    "\n",
    "# Pour visualiser les résultats, exécutez `mlflow ui` dans votre terminal et allez à l'adresse http://localhost:5000."
   ]
  },
  {
   "cell_type": "code",
   "execution_count": null,
   "id": "e626cf0c-7615-498d-89dc-2dc2a4eced4a",
   "metadata": {},
   "outputs": [],
   "source": []
  },
  {
   "cell_type": "markdown",
   "id": "6646bf98-8fc0-417f-bd1b-1089a09914c3",
   "metadata": {},
   "source": [
    "### USE (Universal Sentence Encoder)"
   ]
  },
  {
   "cell_type": "markdown",
   "id": "b0b3aff2-028a-4c8a-8537-fcab78ed2c4d",
   "metadata": {},
   "source": [
    "USE est un modèle développé par Google qui génère des embeddings de phrases et de textes. \n",
    "\n",
    "Contrairement à BERT, USE est conçu pour être simple et efficace, avec une attention particulière à la représentation des phrases et des textes de manière qui facilite des tâches telles que la recherche sémantique et la similarité de texte"
   ]
  },
  {
   "cell_type": "code",
   "execution_count": 34,
   "id": "91b60657-8cbf-4699-88af-0a443ed370ec",
   "metadata": {},
   "outputs": [
    {
     "name": "stdout",
     "output_type": "stream",
     "text": [
      "WARNING:tensorflow:From C:\\Users\\ouedraogo080976\\AppData\\Local\\anaconda\\Lib\\site-packages\\tensorflow_hub\\resolver.py:120: The name tf.gfile.MakeDirs is deprecated. Please use tf.io.gfile.makedirs instead.\n",
      "\n"
     ]
    },
    {
     "name": "stderr",
     "output_type": "stream",
     "text": [
      "WARNING:tensorflow:From C:\\Users\\ouedraogo080976\\AppData\\Local\\anaconda\\Lib\\site-packages\\tensorflow_hub\\resolver.py:120: The name tf.gfile.MakeDirs is deprecated. Please use tf.io.gfile.makedirs instead.\n",
      "\n"
     ]
    },
    {
     "name": "stdout",
     "output_type": "stream",
     "text": [
      "WARNING:tensorflow:From C:\\Users\\ouedraogo080976\\AppData\\Local\\anaconda\\Lib\\site-packages\\tensorflow_hub\\module_v2.py:126: The name tf.saved_model.load_v2 is deprecated. Please use tf.compat.v2.saved_model.load instead.\n",
      "\n"
     ]
    },
    {
     "name": "stderr",
     "output_type": "stream",
     "text": [
      "WARNING:tensorflow:From C:\\Users\\ouedraogo080976\\AppData\\Local\\anaconda\\Lib\\site-packages\\tensorflow_hub\\module_v2.py:126: The name tf.saved_model.load_v2 is deprecated. Please use tf.compat.v2.saved_model.load instead.\n",
      "\n",
      "C:\\Users\\ouedraogo080976\\AppData\\Local\\anaconda\\Lib\\site-packages\\mlflow\\models\\model.py:321: DeprecationWarning: datetime.datetime.utcnow() is deprecated and scheduled for removal in a future version. Use timezone-aware objects to represent datetimes in UTC: datetime.datetime.now(datetime.UTC).\n",
      "  self.utc_time_created = str(utc_time_created or datetime.utcnow())\n"
     ]
    },
    {
     "name": "stdout",
     "output_type": "stream",
     "text": [
      "Chain Accuracy: 0.7586259541984732\n",
      "Chain F1 Score: 0.8297119055883374\n"
     ]
    }
   ],
   "source": [
    "# Définir l'URI de suivi MLflow et le nom de l'expérience\n",
    "mlflow.set_tracking_uri(\"http://127.0.0.1:5000\")\n",
    "mlflow.set_experiment(\"USE_Supervised\")\n",
    "\n",
    "# Charger le modèle USE depuis TensorFlow Hub\n",
    "use_model_url = \"https://tfhub.dev/google/universal-sentence-encoder/4\"\n",
    "use_model = hub.load(use_model_url)\n",
    "\n",
    "# Fonction pour encoder les phrases avec USE\n",
    "def encode_sentences(sentences):\n",
    "    return use_model(sentences).numpy()\n",
    "\n",
    "# Préparer les données\n",
    "# Assurez-vous que `data` est défini et contient les colonnes 'TitleBody_dl' et 'new_tags'\n",
    "sentences = data['TitleBody_dl'].values.tolist()\n",
    "X_use = encode_sentences(sentences)\n",
    "\n",
    "# Binariser les étiquettes\n",
    "mlb = MultiLabelBinarizer()\n",
    "y = mlb.fit_transform(data['new_tags'])\n",
    "\n",
    "# Séparer les données en ensembles d'entraînement et de test\n",
    "X_train, X_test, y_train, y_test = train_test_split(X_use, y, test_size=0.2, random_state=42)\n",
    "\n",
    "# Débuter une nouvelle session de suivi avec MLflow\n",
    "with mlflow.start_run():\n",
    "    # Entraîner la régression logistique avec chaîne de classifieurs\n",
    "    base_lr = LogisticRegression(solver='lbfgs', max_iter=1000)\n",
    "    chain = ClassifierChain(base_lr)\n",
    "    chain.fit(X_train, y_train)\n",
    "\n",
    "    # Prédire sur l'ensemble de test\n",
    "    y_pred = chain.predict(X_test)\n",
    "\n",
    "    # Évaluer les performances\n",
    "    accuracy_chain = accuracy_score(y_test, y_pred)\n",
    "    f1_chain = f1_score(y_test, y_pred, average='micro')\n",
    "\n",
    "    # Enregistrer les métriques dans MLflow\n",
    "    mlflow.log_metric(\"accuracy\", accuracy_chain)\n",
    "    mlflow.log_metric(\"f1_score\", f1_chain)\n",
    "\n",
    "    # Sauvegarder le modèle USE en tant qu'artefact\n",
    "    use_model_dir = \"use_model\"\n",
    "    os.makedirs(use_model_dir, exist_ok=True)\n",
    "    \n",
    "    # Note: TensorFlow Hub model cannot be directement sauvegardé. Utilisez ce placeholder ou une méthode alternative si nécessaire.\n",
    "    with open(os.path.join(use_model_dir, \"use_model.txt\"), 'w') as f:\n",
    "        f.write(\"Universal Sentence Encoder model\")\n",
    "\n",
    "    mlflow.log_artifact(use_model_dir)\n",
    "\n",
    "    # Enregistrer le modèle de chaîne de classifieurs dans MLflow\n",
    "    mlflow.sklearn.log_model(chain, \"chain_classifier\")\n",
    "\n",
    "    print(f\"Chain Accuracy: {accuracy_chain}\")\n",
    "    print(f\"Chain F1 Score: {f1_chain}\")\n",
    "\n",
    "# Pour visualiser les résultats, exécutez `mlflow ui` dans votre terminal et allez à l'adresse http://localhost:5000."
   ]
  },
  {
   "cell_type": "code",
   "execution_count": null,
   "id": "eedd7e8a-a67d-40b0-bd33-d25100d6ed87",
   "metadata": {},
   "outputs": [],
   "source": []
  },
  {
   "cell_type": "markdown",
   "id": "56378e85-0107-45e0-b3ee-8b32299846c5",
   "metadata": {},
   "source": [
    "### FastText"
   ]
  },
  {
   "cell_type": "markdown",
   "id": "5d0c71d6-6c9c-47ba-a9f3-adf7a491d76e",
   "metadata": {},
   "source": [
    "FastText est une extension de Word2Vec qui prend en compte les sous-mots, ce qui est utile pour traiter les mots inconnus ou mal orthographiés."
   ]
  },
  {
   "cell_type": "code",
   "execution_count": 35,
   "id": "e9308553-6a49-4628-93ca-c5e992974036",
   "metadata": {},
   "outputs": [],
   "source": [
    "param_grid = {\n",
    "    'vector_size': [50, 100, 150],  # Dimensions des vecteurs\n",
    "    'window': [3, 5, 7],            # Taille de la fenêtre de contexte\n",
    "    'min_count': [1, 2, 3],         # Nombre minimal d'occurrences\n",
    "    'workers': [1, 4]               # Nombre de threads\n",
    "}"
   ]
  },
  {
   "cell_type": "code",
   "execution_count": 36,
   "id": "ff5d832b-74e6-4b5e-b580-21cc1662181b",
   "metadata": {
    "scrolled": true
   },
   "outputs": [
    {
     "name": "stderr",
     "output_type": "stream",
     "text": [
      "C:\\Users\\ouedraogo080976\\AppData\\Local\\anaconda\\Lib\\site-packages\\sklearn\\cluster\\_kmeans.py:1446: UserWarning: KMeans is known to have a memory leak on Windows with MKL, when there are less chunks than available threads. You can avoid it by setting the environment variable OMP_NUM_THREADS=3.\n",
      "  warnings.warn(\n",
      "C:\\Users\\ouedraogo080976\\AppData\\Local\\anaconda\\Lib\\site-packages\\sklearn\\cluster\\_kmeans.py:1446: UserWarning: KMeans is known to have a memory leak on Windows with MKL, when there are less chunks than available threads. You can avoid it by setting the environment variable OMP_NUM_THREADS=3.\n",
      "  warnings.warn(\n",
      "C:\\Users\\ouedraogo080976\\AppData\\Local\\anaconda\\Lib\\site-packages\\sklearn\\cluster\\_kmeans.py:1446: UserWarning: KMeans is known to have a memory leak on Windows with MKL, when there are less chunks than available threads. You can avoid it by setting the environment variable OMP_NUM_THREADS=2.\n",
      "  warnings.warn(\n",
      "C:\\Users\\ouedraogo080976\\AppData\\Local\\anaconda\\Lib\\site-packages\\sklearn\\cluster\\_kmeans.py:1446: UserWarning: KMeans is known to have a memory leak on Windows with MKL, when there are less chunks than available threads. You can avoid it by setting the environment variable OMP_NUM_THREADS=2.\n",
      "  warnings.warn(\n",
      "C:\\Users\\ouedraogo080976\\AppData\\Local\\anaconda\\Lib\\site-packages\\sklearn\\cluster\\_kmeans.py:1446: UserWarning: KMeans is known to have a memory leak on Windows with MKL, when there are less chunks than available threads. You can avoid it by setting the environment variable OMP_NUM_THREADS=1.\n",
      "  warnings.warn(\n",
      "C:\\Users\\ouedraogo080976\\AppData\\Local\\anaconda\\Lib\\site-packages\\sklearn\\cluster\\_kmeans.py:1446: UserWarning: KMeans is known to have a memory leak on Windows with MKL, when there are less chunks than available threads. You can avoid it by setting the environment variable OMP_NUM_THREADS=1.\n",
      "  warnings.warn(\n",
      "C:\\Users\\ouedraogo080976\\AppData\\Local\\anaconda\\Lib\\site-packages\\sklearn\\cluster\\_kmeans.py:1446: UserWarning: KMeans is known to have a memory leak on Windows with MKL, when there are less chunks than available threads. You can avoid it by setting the environment variable OMP_NUM_THREADS=3.\n",
      "  warnings.warn(\n",
      "C:\\Users\\ouedraogo080976\\AppData\\Local\\anaconda\\Lib\\site-packages\\sklearn\\cluster\\_kmeans.py:1446: UserWarning: KMeans is known to have a memory leak on Windows with MKL, when there are less chunks than available threads. You can avoid it by setting the environment variable OMP_NUM_THREADS=3.\n",
      "  warnings.warn(\n",
      "C:\\Users\\ouedraogo080976\\AppData\\Local\\anaconda\\Lib\\site-packages\\sklearn\\cluster\\_kmeans.py:1446: UserWarning: KMeans is known to have a memory leak on Windows with MKL, when there are less chunks than available threads. You can avoid it by setting the environment variable OMP_NUM_THREADS=2.\n",
      "  warnings.warn(\n",
      "C:\\Users\\ouedraogo080976\\AppData\\Local\\anaconda\\Lib\\site-packages\\sklearn\\cluster\\_kmeans.py:1446: UserWarning: KMeans is known to have a memory leak on Windows with MKL, when there are less chunks than available threads. You can avoid it by setting the environment variable OMP_NUM_THREADS=2.\n",
      "  warnings.warn(\n",
      "C:\\Users\\ouedraogo080976\\AppData\\Local\\anaconda\\Lib\\site-packages\\sklearn\\cluster\\_kmeans.py:1446: UserWarning: KMeans is known to have a memory leak on Windows with MKL, when there are less chunks than available threads. You can avoid it by setting the environment variable OMP_NUM_THREADS=1.\n",
      "  warnings.warn(\n",
      "C:\\Users\\ouedraogo080976\\AppData\\Local\\anaconda\\Lib\\site-packages\\sklearn\\cluster\\_kmeans.py:1446: UserWarning: KMeans is known to have a memory leak on Windows with MKL, when there are less chunks than available threads. You can avoid it by setting the environment variable OMP_NUM_THREADS=1.\n",
      "  warnings.warn(\n",
      "C:\\Users\\ouedraogo080976\\AppData\\Local\\anaconda\\Lib\\site-packages\\sklearn\\cluster\\_kmeans.py:1446: UserWarning: KMeans is known to have a memory leak on Windows with MKL, when there are less chunks than available threads. You can avoid it by setting the environment variable OMP_NUM_THREADS=3.\n",
      "  warnings.warn(\n",
      "C:\\Users\\ouedraogo080976\\AppData\\Local\\anaconda\\Lib\\site-packages\\sklearn\\cluster\\_kmeans.py:1446: UserWarning: KMeans is known to have a memory leak on Windows with MKL, when there are less chunks than available threads. You can avoid it by setting the environment variable OMP_NUM_THREADS=3.\n",
      "  warnings.warn(\n",
      "C:\\Users\\ouedraogo080976\\AppData\\Local\\anaconda\\Lib\\site-packages\\sklearn\\cluster\\_kmeans.py:1446: UserWarning: KMeans is known to have a memory leak on Windows with MKL, when there are less chunks than available threads. You can avoid it by setting the environment variable OMP_NUM_THREADS=2.\n",
      "  warnings.warn(\n",
      "C:\\Users\\ouedraogo080976\\AppData\\Local\\anaconda\\Lib\\site-packages\\sklearn\\cluster\\_kmeans.py:1446: UserWarning: KMeans is known to have a memory leak on Windows with MKL, when there are less chunks than available threads. You can avoid it by setting the environment variable OMP_NUM_THREADS=2.\n",
      "  warnings.warn(\n",
      "C:\\Users\\ouedraogo080976\\AppData\\Local\\anaconda\\Lib\\site-packages\\sklearn\\cluster\\_kmeans.py:1446: UserWarning: KMeans is known to have a memory leak on Windows with MKL, when there are less chunks than available threads. You can avoid it by setting the environment variable OMP_NUM_THREADS=1.\n",
      "  warnings.warn(\n",
      "C:\\Users\\ouedraogo080976\\AppData\\Local\\anaconda\\Lib\\site-packages\\sklearn\\cluster\\_kmeans.py:1446: UserWarning: KMeans is known to have a memory leak on Windows with MKL, when there are less chunks than available threads. You can avoid it by setting the environment variable OMP_NUM_THREADS=1.\n",
      "  warnings.warn(\n",
      "C:\\Users\\ouedraogo080976\\AppData\\Local\\anaconda\\Lib\\site-packages\\sklearn\\cluster\\_kmeans.py:1446: UserWarning: KMeans is known to have a memory leak on Windows with MKL, when there are less chunks than available threads. You can avoid it by setting the environment variable OMP_NUM_THREADS=3.\n",
      "  warnings.warn(\n",
      "C:\\Users\\ouedraogo080976\\AppData\\Local\\anaconda\\Lib\\site-packages\\sklearn\\cluster\\_kmeans.py:1446: UserWarning: KMeans is known to have a memory leak on Windows with MKL, when there are less chunks than available threads. You can avoid it by setting the environment variable OMP_NUM_THREADS=3.\n",
      "  warnings.warn(\n",
      "C:\\Users\\ouedraogo080976\\AppData\\Local\\anaconda\\Lib\\site-packages\\sklearn\\cluster\\_kmeans.py:1446: UserWarning: KMeans is known to have a memory leak on Windows with MKL, when there are less chunks than available threads. You can avoid it by setting the environment variable OMP_NUM_THREADS=2.\n",
      "  warnings.warn(\n",
      "C:\\Users\\ouedraogo080976\\AppData\\Local\\anaconda\\Lib\\site-packages\\sklearn\\cluster\\_kmeans.py:1446: UserWarning: KMeans is known to have a memory leak on Windows with MKL, when there are less chunks than available threads. You can avoid it by setting the environment variable OMP_NUM_THREADS=2.\n",
      "  warnings.warn(\n",
      "C:\\Users\\ouedraogo080976\\AppData\\Local\\anaconda\\Lib\\site-packages\\sklearn\\cluster\\_kmeans.py:1446: UserWarning: KMeans is known to have a memory leak on Windows with MKL, when there are less chunks than available threads. You can avoid it by setting the environment variable OMP_NUM_THREADS=1.\n",
      "  warnings.warn(\n",
      "C:\\Users\\ouedraogo080976\\AppData\\Local\\anaconda\\Lib\\site-packages\\sklearn\\cluster\\_kmeans.py:1446: UserWarning: KMeans is known to have a memory leak on Windows with MKL, when there are less chunks than available threads. You can avoid it by setting the environment variable OMP_NUM_THREADS=1.\n",
      "  warnings.warn(\n",
      "C:\\Users\\ouedraogo080976\\AppData\\Local\\anaconda\\Lib\\site-packages\\sklearn\\cluster\\_kmeans.py:1446: UserWarning: KMeans is known to have a memory leak on Windows with MKL, when there are less chunks than available threads. You can avoid it by setting the environment variable OMP_NUM_THREADS=3.\n",
      "  warnings.warn(\n",
      "C:\\Users\\ouedraogo080976\\AppData\\Local\\anaconda\\Lib\\site-packages\\sklearn\\cluster\\_kmeans.py:1446: UserWarning: KMeans is known to have a memory leak on Windows with MKL, when there are less chunks than available threads. You can avoid it by setting the environment variable OMP_NUM_THREADS=3.\n",
      "  warnings.warn(\n",
      "C:\\Users\\ouedraogo080976\\AppData\\Local\\anaconda\\Lib\\site-packages\\sklearn\\cluster\\_kmeans.py:1446: UserWarning: KMeans is known to have a memory leak on Windows with MKL, when there are less chunks than available threads. You can avoid it by setting the environment variable OMP_NUM_THREADS=2.\n",
      "  warnings.warn(\n",
      "C:\\Users\\ouedraogo080976\\AppData\\Local\\anaconda\\Lib\\site-packages\\sklearn\\cluster\\_kmeans.py:1446: UserWarning: KMeans is known to have a memory leak on Windows with MKL, when there are less chunks than available threads. You can avoid it by setting the environment variable OMP_NUM_THREADS=2.\n",
      "  warnings.warn(\n",
      "C:\\Users\\ouedraogo080976\\AppData\\Local\\anaconda\\Lib\\site-packages\\sklearn\\cluster\\_kmeans.py:1446: UserWarning: KMeans is known to have a memory leak on Windows with MKL, when there are less chunks than available threads. You can avoid it by setting the environment variable OMP_NUM_THREADS=1.\n",
      "  warnings.warn(\n",
      "C:\\Users\\ouedraogo080976\\AppData\\Local\\anaconda\\Lib\\site-packages\\sklearn\\cluster\\_kmeans.py:1446: UserWarning: KMeans is known to have a memory leak on Windows with MKL, when there are less chunks than available threads. You can avoid it by setting the environment variable OMP_NUM_THREADS=1.\n",
      "  warnings.warn(\n",
      "C:\\Users\\ouedraogo080976\\AppData\\Local\\anaconda\\Lib\\site-packages\\sklearn\\cluster\\_kmeans.py:1446: UserWarning: KMeans is known to have a memory leak on Windows with MKL, when there are less chunks than available threads. You can avoid it by setting the environment variable OMP_NUM_THREADS=3.\n",
      "  warnings.warn(\n",
      "C:\\Users\\ouedraogo080976\\AppData\\Local\\anaconda\\Lib\\site-packages\\sklearn\\cluster\\_kmeans.py:1446: UserWarning: KMeans is known to have a memory leak on Windows with MKL, when there are less chunks than available threads. You can avoid it by setting the environment variable OMP_NUM_THREADS=3.\n",
      "  warnings.warn(\n",
      "C:\\Users\\ouedraogo080976\\AppData\\Local\\anaconda\\Lib\\site-packages\\sklearn\\cluster\\_kmeans.py:1446: UserWarning: KMeans is known to have a memory leak on Windows with MKL, when there are less chunks than available threads. You can avoid it by setting the environment variable OMP_NUM_THREADS=2.\n",
      "  warnings.warn(\n",
      "C:\\Users\\ouedraogo080976\\AppData\\Local\\anaconda\\Lib\\site-packages\\sklearn\\cluster\\_kmeans.py:1446: UserWarning: KMeans is known to have a memory leak on Windows with MKL, when there are less chunks than available threads. You can avoid it by setting the environment variable OMP_NUM_THREADS=2.\n",
      "  warnings.warn(\n",
      "C:\\Users\\ouedraogo080976\\AppData\\Local\\anaconda\\Lib\\site-packages\\sklearn\\cluster\\_kmeans.py:1446: UserWarning: KMeans is known to have a memory leak on Windows with MKL, when there are less chunks than available threads. You can avoid it by setting the environment variable OMP_NUM_THREADS=1.\n",
      "  warnings.warn(\n",
      "C:\\Users\\ouedraogo080976\\AppData\\Local\\anaconda\\Lib\\site-packages\\sklearn\\cluster\\_kmeans.py:1446: UserWarning: KMeans is known to have a memory leak on Windows with MKL, when there are less chunks than available threads. You can avoid it by setting the environment variable OMP_NUM_THREADS=1.\n",
      "  warnings.warn(\n",
      "C:\\Users\\ouedraogo080976\\AppData\\Local\\anaconda\\Lib\\site-packages\\sklearn\\cluster\\_kmeans.py:1446: UserWarning: KMeans is known to have a memory leak on Windows with MKL, when there are less chunks than available threads. You can avoid it by setting the environment variable OMP_NUM_THREADS=3.\n",
      "  warnings.warn(\n",
      "C:\\Users\\ouedraogo080976\\AppData\\Local\\anaconda\\Lib\\site-packages\\sklearn\\cluster\\_kmeans.py:1446: UserWarning: KMeans is known to have a memory leak on Windows with MKL, when there are less chunks than available threads. You can avoid it by setting the environment variable OMP_NUM_THREADS=3.\n",
      "  warnings.warn(\n",
      "C:\\Users\\ouedraogo080976\\AppData\\Local\\anaconda\\Lib\\site-packages\\sklearn\\cluster\\_kmeans.py:1446: UserWarning: KMeans is known to have a memory leak on Windows with MKL, when there are less chunks than available threads. You can avoid it by setting the environment variable OMP_NUM_THREADS=2.\n",
      "  warnings.warn(\n",
      "C:\\Users\\ouedraogo080976\\AppData\\Local\\anaconda\\Lib\\site-packages\\sklearn\\cluster\\_kmeans.py:1446: UserWarning: KMeans is known to have a memory leak on Windows with MKL, when there are less chunks than available threads. You can avoid it by setting the environment variable OMP_NUM_THREADS=2.\n",
      "  warnings.warn(\n",
      "C:\\Users\\ouedraogo080976\\AppData\\Local\\anaconda\\Lib\\site-packages\\sklearn\\cluster\\_kmeans.py:1446: UserWarning: KMeans is known to have a memory leak on Windows with MKL, when there are less chunks than available threads. You can avoid it by setting the environment variable OMP_NUM_THREADS=1.\n",
      "  warnings.warn(\n",
      "C:\\Users\\ouedraogo080976\\AppData\\Local\\anaconda\\Lib\\site-packages\\sklearn\\cluster\\_kmeans.py:1446: UserWarning: KMeans is known to have a memory leak on Windows with MKL, when there are less chunks than available threads. You can avoid it by setting the environment variable OMP_NUM_THREADS=1.\n",
      "  warnings.warn(\n",
      "C:\\Users\\ouedraogo080976\\AppData\\Local\\anaconda\\Lib\\site-packages\\sklearn\\cluster\\_kmeans.py:1446: UserWarning: KMeans is known to have a memory leak on Windows with MKL, when there are less chunks than available threads. You can avoid it by setting the environment variable OMP_NUM_THREADS=3.\n",
      "  warnings.warn(\n",
      "C:\\Users\\ouedraogo080976\\AppData\\Local\\anaconda\\Lib\\site-packages\\sklearn\\cluster\\_kmeans.py:1446: UserWarning: KMeans is known to have a memory leak on Windows with MKL, when there are less chunks than available threads. You can avoid it by setting the environment variable OMP_NUM_THREADS=3.\n",
      "  warnings.warn(\n",
      "C:\\Users\\ouedraogo080976\\AppData\\Local\\anaconda\\Lib\\site-packages\\sklearn\\cluster\\_kmeans.py:1446: UserWarning: KMeans is known to have a memory leak on Windows with MKL, when there are less chunks than available threads. You can avoid it by setting the environment variable OMP_NUM_THREADS=2.\n",
      "  warnings.warn(\n",
      "C:\\Users\\ouedraogo080976\\AppData\\Local\\anaconda\\Lib\\site-packages\\sklearn\\cluster\\_kmeans.py:1446: UserWarning: KMeans is known to have a memory leak on Windows with MKL, when there are less chunks than available threads. You can avoid it by setting the environment variable OMP_NUM_THREADS=2.\n",
      "  warnings.warn(\n",
      "C:\\Users\\ouedraogo080976\\AppData\\Local\\anaconda\\Lib\\site-packages\\sklearn\\cluster\\_kmeans.py:1446: UserWarning: KMeans is known to have a memory leak on Windows with MKL, when there are less chunks than available threads. You can avoid it by setting the environment variable OMP_NUM_THREADS=1.\n",
      "  warnings.warn(\n",
      "C:\\Users\\ouedraogo080976\\AppData\\Local\\anaconda\\Lib\\site-packages\\sklearn\\cluster\\_kmeans.py:1446: UserWarning: KMeans is known to have a memory leak on Windows with MKL, when there are less chunks than available threads. You can avoid it by setting the environment variable OMP_NUM_THREADS=1.\n",
      "  warnings.warn(\n",
      "C:\\Users\\ouedraogo080976\\AppData\\Local\\anaconda\\Lib\\site-packages\\sklearn\\cluster\\_kmeans.py:1446: UserWarning: KMeans is known to have a memory leak on Windows with MKL, when there are less chunks than available threads. You can avoid it by setting the environment variable OMP_NUM_THREADS=3.\n",
      "  warnings.warn(\n",
      "C:\\Users\\ouedraogo080976\\AppData\\Local\\anaconda\\Lib\\site-packages\\sklearn\\cluster\\_kmeans.py:1446: UserWarning: KMeans is known to have a memory leak on Windows with MKL, when there are less chunks than available threads. You can avoid it by setting the environment variable OMP_NUM_THREADS=3.\n",
      "  warnings.warn(\n",
      "C:\\Users\\ouedraogo080976\\AppData\\Local\\anaconda\\Lib\\site-packages\\sklearn\\cluster\\_kmeans.py:1446: UserWarning: KMeans is known to have a memory leak on Windows with MKL, when there are less chunks than available threads. You can avoid it by setting the environment variable OMP_NUM_THREADS=2.\n",
      "  warnings.warn(\n",
      "C:\\Users\\ouedraogo080976\\AppData\\Local\\anaconda\\Lib\\site-packages\\sklearn\\cluster\\_kmeans.py:1446: UserWarning: KMeans is known to have a memory leak on Windows with MKL, when there are less chunks than available threads. You can avoid it by setting the environment variable OMP_NUM_THREADS=2.\n",
      "  warnings.warn(\n",
      "C:\\Users\\ouedraogo080976\\AppData\\Local\\anaconda\\Lib\\site-packages\\sklearn\\cluster\\_kmeans.py:1446: UserWarning: KMeans is known to have a memory leak on Windows with MKL, when there are less chunks than available threads. You can avoid it by setting the environment variable OMP_NUM_THREADS=1.\n",
      "  warnings.warn(\n"
     ]
    },
    {
     "name": "stdout",
     "output_type": "stream",
     "text": [
      "Meilleurs paramètres : {'vector_size': 100, 'window': 7, 'min_count': 3, 'workers': 4}\n",
      "Meilleur score de cohérence de regroupement : 0.47885942\n"
     ]
    },
    {
     "name": "stderr",
     "output_type": "stream",
     "text": [
      "C:\\Users\\ouedraogo080976\\AppData\\Local\\anaconda\\Lib\\site-packages\\sklearn\\cluster\\_kmeans.py:1446: UserWarning: KMeans is known to have a memory leak on Windows with MKL, when there are less chunks than available threads. You can avoid it by setting the environment variable OMP_NUM_THREADS=1.\n",
      "  warnings.warn(\n"
     ]
    }
   ],
   "source": [
    "# Fonction de recherche de grille pour FastText\n",
    "def grid_search_fasttext(param_grid, sentences):\n",
    "    best_model = None\n",
    "    best_params = None\n",
    "    best_score = float('-inf')\n",
    "\n",
    "    all_params = [dict(zip(param_grid.keys(), v)) for v in itertools.product(*param_grid.values())]\n",
    "\n",
    "    for params in all_params:\n",
    "        model = FastText(\n",
    "            sentences=sentences,\n",
    "            vector_size=params['vector_size'],\n",
    "            window=params['window'],\n",
    "            min_count=params['min_count'],\n",
    "            workers=params['workers']\n",
    "        )\n",
    "\n",
    "        # Évaluer le modèle par la cohérence de regroupement\n",
    "        words = list(model.wv.index_to_key)\n",
    "        word_vectors = [model.wv[word] for word in words]\n",
    "\n",
    "        # Clustering des vecteurs de mots\n",
    "        num_clusters = min(len(words), 10)\n",
    "        kmeans = KMeans(n_clusters=num_clusters, random_state=0)\n",
    "        kmeans.fit(word_vectors)\n",
    "        labels = kmeans.labels_\n",
    "\n",
    "        # Calculer le score de silhouette pour la cohérence de regroupement\n",
    "        silhouette_avg = silhouette_score(word_vectors, labels)\n",
    "\n",
    "        if silhouette_avg > best_score:\n",
    "            best_score = silhouette_avg\n",
    "            best_model = model\n",
    "            best_params = params\n",
    "\n",
    "    return best_model, best_params, best_score\n",
    "\n",
    "# Préparer les phrases pour FastText\n",
    "sentences = data['TitleBody_bow_lem'].tolist()\n",
    "\n",
    "# Effectuer la recherche de grille\n",
    "best_model, best_params, best_score = grid_search_fasttext(param_grid, sentences)\n",
    "\n",
    "print(\"Meilleurs paramètres :\", best_params)\n",
    "print(\"Meilleur score de cohérence de regroupement :\", best_score)"
   ]
  },
  {
   "cell_type": "code",
   "execution_count": 39,
   "id": "dd2b0aca-968d-4619-a0b9-38c6f6ea9ffd",
   "metadata": {},
   "outputs": [
    {
     "name": "stderr",
     "output_type": "stream",
     "text": [
      "C:\\Users\\ouedraogo080976\\AppData\\Local\\Temp\\ipykernel_19844\\776988051.py:10: SettingWithCopyWarning: \n",
      "A value is trying to be set on a copy of a slice from a DataFrame.\n",
      "Try using .loc[row_indexer,col_indexer] = value instead\n",
      "\n",
      "See the caveats in the documentation: https://pandas.pydata.org/pandas-docs/stable/user_guide/indexing.html#returning-a-view-versus-a-copy\n",
      "  data['TitleBody_Vector_FT'] = data['TitleBody_bow_lem'].apply(lambda x: document_vector_ft(best_model, x))\n"
     ]
    },
    {
     "name": "stdout",
     "output_type": "stream",
     "text": [
      "Chain Accuracy: 0.27053435114503815\n",
      "Chain F1 Score: 0.2885920422887349\n"
     ]
    }
   ],
   "source": [
    "# Créer des vecteurs de documents en utilisant FastText\n",
    "def document_vector_ft(model, doc):\n",
    "    # Moyenne des vecteurs de mots présents dans le document\n",
    "    doc = [word for word in doc if word in model.wv.index_to_key]\n",
    "    if len(doc) == 0:\n",
    "        return np.zeros(model.vector_size)\n",
    "    return np.mean(model.wv[doc], axis=0)\n",
    "\n",
    "# Appliquer la fonction à chaque document\n",
    "data['TitleBody_Vector_FT'] = data['TitleBody_bow_lem'].apply(lambda x: document_vector_ft(best_model, x))\n",
    "\n",
    "# Créer la matrice de caractéristiques\n",
    "X_fasttext = np.array(data['TitleBody_Vector_FT'].tolist())\n",
    "\n",
    "# Binariser les étiquettes\n",
    "mlb = MultiLabelBinarizer()\n",
    "y = mlb.fit_transform(data['new_tags'])\n",
    "\n",
    "# Séparer les données en ensembles d'entraînement et de test\n",
    "X_train, X_test, y_train, y_test = train_test_split(X_fasttext, y, test_size=0.2, random_state=42)\n",
    "\n",
    "# Entraîner la régression logistique avec chaîne de classifieurs\n",
    "base_lr = LogisticRegression(solver='lbfgs', max_iter=1000)\n",
    "chain = ClassifierChain(base_lr)\n",
    "chain.fit(X_train, y_train)\n",
    "\n",
    "# Prédire sur l'ensemble de test\n",
    "y_pred = chain.predict(X_test)\n",
    "\n",
    "# Évaluer les performances avec le score F1\n",
    "accuracy_chain = accuracy_score(y_test, y_pred)\n",
    "f1_chain = f1_score(y_test, y_pred, average='micro')\n",
    "\n",
    "print(f\"Chain Accuracy: {accuracy_chain}\")\n",
    "print(f\"Chain F1 Score: {f1_chain}\")"
   ]
  },
  {
   "cell_type": "code",
   "execution_count": 40,
   "id": "27e0694d-367b-4c7c-9c31-4e761036aef3",
   "metadata": {},
   "outputs": [
    {
     "name": "stderr",
     "output_type": "stream",
     "text": [
      "C:\\Users\\ouedraogo080976\\AppData\\Local\\Temp\\ipykernel_19844\\2149654391.py:14: SettingWithCopyWarning: \n",
      "A value is trying to be set on a copy of a slice from a DataFrame.\n",
      "Try using .loc[row_indexer,col_indexer] = value instead\n",
      "\n",
      "See the caveats in the documentation: https://pandas.pydata.org/pandas-docs/stable/user_guide/indexing.html#returning-a-view-versus-a-copy\n",
      "  data['TitleBody_Vector_FT'] = data['TitleBody_bow_lem'].apply(lambda x: document_vector_ft(best_model, x))\n",
      "C:\\Users\\ouedraogo080976\\AppData\\Local\\anaconda\\Lib\\site-packages\\mlflow\\models\\model.py:321: DeprecationWarning: datetime.datetime.utcnow() is deprecated and scheduled for removal in a future version. Use timezone-aware objects to represent datetimes in UTC: datetime.datetime.now(datetime.UTC).\n",
      "  self.utc_time_created = str(utc_time_created or datetime.utcnow())\n"
     ]
    },
    {
     "name": "stdout",
     "output_type": "stream",
     "text": [
      "Chain Accuracy: 0.27053435114503815\n",
      "Chain F1 Score: 0.2885920422887349\n"
     ]
    }
   ],
   "source": [
    "# Définir l'URI de suivi MLflow et le nom de l'expérience\n",
    "mlflow.set_tracking_uri(\"http://127.0.0.1:5000\")  # Définir l'URI de suivi MLflow\n",
    "mlflow.set_experiment(\"fasttext_Supervised\")  # Définir le nom de votre expérience MLflow\n",
    "\n",
    "# Créer des vecteurs de documents en utilisant FastText\n",
    "def document_vector_ft(model, doc):\n",
    "    # Moyenne des vecteurs de mots présents dans le document\n",
    "    doc = [word for word in doc if word in model.wv.index_to_key]\n",
    "    if len(doc) == 0:\n",
    "        return np.zeros(model.vector_size)\n",
    "    return np.mean(model.wv[doc], axis=0)\n",
    "\n",
    "# Assurez-vous que 'best_model' est défini et que les données sont prétraitées avant cette section.\n",
    "data['TitleBody_Vector_FT'] = data['TitleBody_bow_lem'].apply(lambda x: document_vector_ft(best_model, x))\n",
    "\n",
    "# Créer la matrice de caractéristiques\n",
    "X_fasttext = np.array(data['TitleBody_Vector_FT'].tolist())\n",
    "\n",
    "# Binariser les étiquettes\n",
    "mlb = MultiLabelBinarizer()\n",
    "y = mlb.fit_transform(data['new_tags'])\n",
    "\n",
    "# Séparer les données en ensembles d'entraînement et de test\n",
    "X_train, X_test, y_train, y_test = train_test_split(X_fasttext, y, test_size=0.2, random_state=42)\n",
    "\n",
    "# Débuter une nouvelle session de suivi avec MLflow\n",
    "with mlflow.start_run():\n",
    "    # Entraîner la régression logistique avec chaîne de classifieurs\n",
    "    base_lr = LogisticRegression(solver='lbfgs', max_iter=1000)\n",
    "    chain = ClassifierChain(base_lr)\n",
    "    chain.fit(X_train, y_train)\n",
    "\n",
    "    # Prédire sur l'ensemble de test\n",
    "    y_pred = chain.predict(X_test)\n",
    "\n",
    "    # Évaluer les performances\n",
    "    accuracy_chain = accuracy_score(y_test, y_pred)\n",
    "    f1_chain = f1_score(y_test, y_pred, average='micro')\n",
    "\n",
    "    # Enregistrer les métriques dans MLflow\n",
    "    mlflow.log_metric(\"accuracy\", accuracy_chain)\n",
    "    mlflow.log_metric(\"f1_score\", f1_chain)\n",
    "\n",
    "    # Enregistrer le modèle de chaîne de classifieurs dans MLflow\n",
    "    mlflow.sklearn.log_model(chain, \"chain_classifier\")\n",
    "\n",
    "    # Sauvegarder et enregistrer le modèle FastText\n",
    "    fasttext_model_path = \"fasttext_model.pkl\"\n",
    "    with open(fasttext_model_path, 'wb') as f:\n",
    "        pickle.dump(best_model, f)\n",
    "    \n",
    "    mlflow.log_artifact(fasttext_model_path)\n",
    "\n",
    "    print(f\"Chain Accuracy: {accuracy_chain}\")\n",
    "    print(f\"Chain F1 Score: {f1_chain}\")\n",
    "\n",
    "# Pour visualiser les résultats, exécutez `mlflow ui` dans votre terminal et allez à l'adresse http://localhost:5000."
   ]
  },
  {
   "cell_type": "code",
   "execution_count": null,
   "id": "19c87b72-837b-4b83-b5c8-514fb248d2a0",
   "metadata": {},
   "outputs": [],
   "source": []
  },
  {
   "cell_type": "markdown",
   "id": "3f7c90cb-00ef-4053-bbc6-a32ea1264c19",
   "metadata": {},
   "source": [
    "### Doc2Vec"
   ]
  },
  {
   "cell_type": "markdown",
   "id": "621bef48-ed8d-498c-ab2d-8c505d66353b",
   "metadata": {},
   "source": [
    "Contrairement à Word2Vec qui génère des vecteurs pour des mots, Doc2Vec génère des vecteurs pour des documents (paragraphes ou phrases). Cette méthode est particulièrement utile pour obtenir des représentations vectorielles de documents entiers"
   ]
  },
  {
   "cell_type": "code",
   "execution_count": 19,
   "id": "d27a4bd0-9730-4d51-a1b0-41595c737eaf",
   "metadata": {},
   "outputs": [],
   "source": [
    "def create_tagged_documents(df):\n",
    "    tagged_documents = []\n",
    "    for i, row in df.iterrows():\n",
    "        tokens = row['TitleBody_bow_lem']\n",
    "        tagged_documents.append(TaggedDocument(words=tokens, tags=[i]))\n",
    "    return tagged_documents\n",
    "\n",
    "tagged_documents = create_tagged_documents(data)"
   ]
  },
  {
   "cell_type": "code",
   "execution_count": 20,
   "id": "96df44b8-90b3-454a-bb40-26194f423dbc",
   "metadata": {},
   "outputs": [
    {
     "name": "stdout",
     "output_type": "stream",
     "text": [
      "Meilleurs paramètres : {'vector_size': 150, 'window': 7, 'min_count': 1, 'workers': 4}\n",
      "Meilleur score de cohérence de regroupement : 0.21658728\n"
     ]
    }
   ],
   "source": [
    "# Définir la grille de paramètres pour Doc2Vec\n",
    "param_grid = {\n",
    "    'vector_size': [50, 100, 150],  # Dimensions des vecteurs\n",
    "    'window': [3, 5, 7],            # Taille de la fenêtre de contexte\n",
    "    'min_count': [1, 2, 3],         # Nombre minimal d'occurrences\n",
    "    'workers': [1, 4]               # Nombre de threads\n",
    "}\n",
    "\n",
    "# Fonction de recherche de grille pour Doc2Vec\n",
    "def grid_search_doc2vec(param_grid, tagged_documents):\n",
    "    best_model = None\n",
    "    best_params = None\n",
    "    best_score = float('-inf')\n",
    "\n",
    "    all_params = [dict(zip(param_grid.keys(), v)) for v in itertools.product(*param_grid.values())]\n",
    "\n",
    "    for params in all_params:\n",
    "        model = Doc2Vec(\n",
    "            documents=tagged_documents,\n",
    "            vector_size=params['vector_size'],\n",
    "            window=params['window'],\n",
    "            min_count=params['min_count'],\n",
    "            workers=params['workers'],\n",
    "            epochs=20  # Ajuster le nombre d'epochs selon les besoins\n",
    "        )\n",
    "\n",
    "        # Évaluer le modèle par la cohérence de regroupement\n",
    "        doc_vectors = [model.dv[i] for i in range(len(tagged_documents))]\n",
    "        \n",
    "        # Clustering des vecteurs de documents\n",
    "        num_clusters = min(len(doc_vectors), 10)\n",
    "        kmeans = KMeans(n_clusters=num_clusters, random_state=0)\n",
    "        kmeans.fit(doc_vectors)\n",
    "        labels = kmeans.labels_\n",
    "\n",
    "        # Calculer le score de silhouette pour la cohérence de regroupement\n",
    "        silhouette_avg = silhouette_score(doc_vectors, labels)\n",
    "\n",
    "        if silhouette_avg > best_score:\n",
    "            best_score = silhouette_avg\n",
    "            best_model = model\n",
    "            best_params = params\n",
    "\n",
    "    return best_model, best_params, best_score\n",
    "\n",
    "# Préparer les phrases pour Doc2Vec\n",
    "tagged_documents = create_tagged_documents(data)\n",
    "\n",
    "# Effectuer la recherche de grille\n",
    "best_model, best_params, best_score = grid_search_doc2vec(param_grid, tagged_documents)\n",
    "\n",
    "print(\"Meilleurs paramètres :\", best_params)\n",
    "print(\"Meilleur score de cohérence de regroupement :\", best_score)"
   ]
  },
  {
   "cell_type": "code",
   "execution_count": 21,
   "id": "04febf76-7f33-4c07-8d4d-a72cd21c38e7",
   "metadata": {},
   "outputs": [
    {
     "name": "stderr",
     "output_type": "stream",
     "text": [
      "C:\\Users\\ouedraogo080976\\AppData\\Local\\Temp\\ipykernel_20632\\4189219867.py:6: SettingWithCopyWarning: \n",
      "A value is trying to be set on a copy of a slice from a DataFrame.\n",
      "Try using .loc[row_indexer,col_indexer] = value instead\n",
      "\n",
      "See the caveats in the documentation: https://pandas.pydata.org/pandas-docs/stable/user_guide/indexing.html#returning-a-view-versus-a-copy\n",
      "  data['Doc2Vec_Vector'] = data.index.map(lambda x: get_document_vector(best_model, x))\n"
     ]
    },
    {
     "name": "stdout",
     "output_type": "stream",
     "text": [
      "Chain Accuracy: 0.2381679389312977\n",
      "Chain F1 Score: 0.2582390205708591\n"
     ]
    }
   ],
   "source": [
    "# Créer des vecteurs de documents en utilisant Doc2Vec\n",
    "def get_document_vector(model, doc_id):\n",
    "    return model.dv[doc_id]\n",
    "\n",
    "# Appliquer la fonction à chaque document\n",
    "data['Doc2Vec_Vector'] = data.index.map(lambda x: get_document_vector(best_model, x))\n",
    "\n",
    "# Créer la matrice de caractéristiques\n",
    "X_doc2vec = np.array(data['Doc2Vec_Vector'].tolist())\n",
    "\n",
    "# Binariser les étiquettes\n",
    "mlb = MultiLabelBinarizer()\n",
    "y = mlb.fit_transform(data['new_tags'])\n",
    "\n",
    "# Séparer les données en ensembles d'entraînement et de test\n",
    "X_train, X_test, y_train, y_test = train_test_split(X_doc2vec, y, test_size=0.2, random_state=42)\n",
    "\n",
    "# Entraîner la régression logistique avec chaîne de classifieurs\n",
    "base_lr = LogisticRegression(solver='lbfgs', max_iter=1000)\n",
    "chain = ClassifierChain(base_lr)\n",
    "chain.fit(X_train, y_train)\n",
    "\n",
    "# Prédire sur l'ensemble de test\n",
    "y_pred = chain.predict(X_test)\n",
    "\n",
    "# Évaluer les performances avec le score F1\n",
    "accuracy_chain = accuracy_score(y_test, y_pred)\n",
    "f1_chain = f1_score(y_test, y_pred, average='micro')\n",
    "\n",
    "print(f\"Chain Accuracy: {accuracy_chain}\")\n",
    "print(f\"Chain F1 Score: {f1_chain}\")"
   ]
  },
  {
   "cell_type": "code",
   "execution_count": 22,
   "id": "cc746a30-6cac-47c6-b252-a0050008f798",
   "metadata": {},
   "outputs": [
    {
     "name": "stderr",
     "output_type": "stream",
     "text": [
      "C:\\Users\\ouedraogo080976\\AppData\\Local\\Temp\\ipykernel_20632\\4075046560.py:10: SettingWithCopyWarning: \n",
      "A value is trying to be set on a copy of a slice from a DataFrame.\n",
      "Try using .loc[row_indexer,col_indexer] = value instead\n",
      "\n",
      "See the caveats in the documentation: https://pandas.pydata.org/pandas-docs/stable/user_guide/indexing.html#returning-a-view-versus-a-copy\n",
      "  data['Doc2Vec_Vector'] = data.index.map(lambda x: get_document_vector(best_model, x))\n",
      "2024/07/25 12:04:22 WARNING mlflow.utils.git_utils: Failed to import Git (the Git executable is probably not on your PATH), so Git SHA is not available. Error: Failed to initialize: Bad git executable.\n",
      "The git executable must be specified in one of the following ways:\n",
      "    - be included in your $PATH\n",
      "    - be set via $GIT_PYTHON_GIT_EXECUTABLE\n",
      "    - explicitly set via git.refresh()\n",
      "\n",
      "All git commands will error until this is rectified.\n",
      "\n",
      "This initial warning can be silenced or aggravated in the future by setting the\n",
      "$GIT_PYTHON_REFRESH environment variable. Use one of the following values:\n",
      "    - quiet|q|silence|s|none|n|0: for no warning or exception\n",
      "    - warn|w|warning|1: for a printed warning\n",
      "    - error|e|raise|r|2: for a raised exception\n",
      "\n",
      "Example:\n",
      "    export GIT_PYTHON_REFRESH=quiet\n",
      "\n",
      "C:\\Users\\ouedraogo080976\\AppData\\Local\\anaconda\\Lib\\site-packages\\mlflow\\models\\model.py:321: DeprecationWarning: datetime.datetime.utcnow() is deprecated and scheduled for removal in a future version. Use timezone-aware objects to represent datetimes in UTC: datetime.datetime.now(datetime.UTC).\n",
      "  self.utc_time_created = str(utc_time_created or datetime.utcnow())\n"
     ]
    },
    {
     "name": "stdout",
     "output_type": "stream",
     "text": [
      "Chain Accuracy: 0.2381679389312977\n",
      "Chain F1 Score: 0.2582390205708591\n"
     ]
    }
   ],
   "source": [
    "# Définir l'URI de suivi MLflow et le nom de l'expérience\n",
    "mlflow.set_tracking_uri(\"http://127.0.0.1:5000\")  # Définir l'URI de suivi MLflow\n",
    "mlflow.set_experiment(\"doc2vec_Supervised\")  # Définir le nom de votre expérience MLflow\n",
    "\n",
    "# Créer des vecteurs de documents en utilisant Doc2Vec\n",
    "def get_document_vector(model, doc_id):\n",
    "    return model.dv[doc_id]\n",
    "\n",
    "# Assurez-vous que 'best_model' est défini et que les données sont prétraitées avant cette section.\n",
    "data['Doc2Vec_Vector'] = data.index.map(lambda x: get_document_vector(best_model, x))\n",
    "\n",
    "# Créer la matrice de caractéristiques\n",
    "X_doc2vec = np.array(data['Doc2Vec_Vector'].tolist())\n",
    "\n",
    "# Binariser les étiquettes\n",
    "mlb = MultiLabelBinarizer()\n",
    "y = mlb.fit_transform(data['new_tags'])\n",
    "\n",
    "# Séparer les données en ensembles d'entraînement et de test\n",
    "X_train, X_test, y_train, y_test = train_test_split(X_doc2vec, y, test_size=0.2, random_state=42)\n",
    "\n",
    "# Débuter une nouvelle session de suivi avec MLflow\n",
    "with mlflow.start_run():\n",
    "    # Entraîner la régression logistique avec chaîne de classifieurs\n",
    "    base_lr = LogisticRegression(solver='lbfgs', max_iter=1000)\n",
    "    chain = ClassifierChain(base_lr)\n",
    "    chain.fit(X_train, y_train)\n",
    "\n",
    "    # Prédire sur l'ensemble de test\n",
    "    y_pred = chain.predict(X_test)\n",
    "\n",
    "    # Évaluer les performances\n",
    "    accuracy_chain = accuracy_score(y_test, y_pred)\n",
    "    f1_chain = f1_score(y_test, y_pred, average='micro')\n",
    "\n",
    "    # Enregistrer les métriques dans MLflow\n",
    "    mlflow.log_metric(\"accuracy\", accuracy_chain)\n",
    "    mlflow.log_metric(\"f1_score\", f1_chain)\n",
    "\n",
    "    # Sauvegarder et enregistrer le modèle Doc2Vec\n",
    "    doc2vec_model_path = \"doc2vec_model.pkl\"\n",
    "    with open(doc2vec_model_path, 'wb') as f:\n",
    "        pickle.dump(best_model, f)\n",
    "\n",
    "    mlflow.log_artifact(doc2vec_model_path)\n",
    "\n",
    "    # Enregistrer le modèle de chaîne de classifieurs dans MLflow\n",
    "    mlflow.sklearn.log_model(chain, \"chain_classifier\")\n",
    "\n",
    "    print(f\"Chain Accuracy: {accuracy_chain}\")\n",
    "    print(f\"Chain F1 Score: {f1_chain}\")\n",
    "\n",
    "# Pour visualiser les résultats, exécutez `mlflow ui` dans votre terminal et allez à l'adresse http://localhost:5000."
   ]
  },
  {
   "cell_type": "code",
   "execution_count": null,
   "id": "2d6ccb41-59e3-4c83-8e89-731d237e54ac",
   "metadata": {},
   "outputs": [],
   "source": []
  }
 ],
 "metadata": {
  "kernelspec": {
   "display_name": "Python 3 (ipykernel)",
   "language": "python",
   "name": "python3"
  },
  "language_info": {
   "codemirror_mode": {
    "name": "ipython",
    "version": 3
   },
   "file_extension": ".py",
   "mimetype": "text/x-python",
   "name": "python",
   "nbconvert_exporter": "python",
   "pygments_lexer": "ipython3",
   "version": "3.12.4"
  }
 },
 "nbformat": 4,
 "nbformat_minor": 5
}
