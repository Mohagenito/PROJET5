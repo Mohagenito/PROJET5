{
 "cells": [
  {
   "cell_type": "code",
   "execution_count": 1,
   "id": "13c410c0",
   "metadata": {},
   "outputs": [
    {
     "name": "stderr",
     "output_type": "stream",
     "text": [
      "C:\\Users\\ouedraogo080976\\AppData\\Local\\anaconda\\Lib\\site-packages\\sentence_transformers\\cross_encoder\\CrossEncoder.py:11: TqdmExperimentalWarning: Using `tqdm.autonotebook.tqdm` in notebook mode. Use `tqdm.tqdm` instead to force console mode (e.g. in jupyter console)\n",
      "  from tqdm.autonotebook import tqdm, trange\n"
     ]
    },
    {
     "name": "stdout",
     "output_type": "stream",
     "text": [
      "WARNING:tensorflow:From C:\\Users\\ouedraogo080976\\AppData\\Local\\anaconda\\Lib\\site-packages\\tf_keras\\src\\losses.py:2976: The name tf.losses.sparse_softmax_cross_entropy is deprecated. Please use tf.compat.v1.losses.sparse_softmax_cross_entropy instead.\n",
      "\n"
     ]
    },
    {
     "name": "stderr",
     "output_type": "stream",
     "text": [
      "C:\\Users\\ouedraogo080976\\AppData\\Local\\Temp\\ipykernel_21792\\1184527746.py:39: DeprecationWarning: Importing display from IPython.core.display is deprecated since IPython 7.14, please import from IPython display\n",
      "  from IPython.core.display import display, HTML\n"
     ]
    }
   ],
   "source": [
    "# Import des bibliothèques de base pour la manipulation des données et les visualisations\n",
    "import numpy as np\n",
    "import pandas as pd\n",
    "import matplotlib.pyplot as plt\n",
    "import seaborn as sns\n",
    "\n",
    "# Import des bibliothèques de traitement de texte\n",
    "import nltk\n",
    "from nltk.tokenize import word_tokenize\n",
    "from nltk.corpus import stopwords\n",
    "from nltk.stem import WordNetLemmatizer\n",
    "from nltk.corpus import wordnet\n",
    "from bs4 import BeautifulSoup\n",
    "import re\n",
    "import os\n",
    "\n",
    "# Import des bibliothèques pour la modélisation et le traitement de texte avancé\n",
    "from collections import Counter\n",
    "from sklearn.feature_extraction.text import CountVectorizer\n",
    "import sentence_transformers\n",
    "from sentence_transformers import SentenceTransformer\n",
    "import torch\n",
    "import itertools\n",
    "import gensim\n",
    "\n",
    "# Import des bibliothèques pour le prétraitement et la modélisation des données\n",
    "from sklearn.preprocessing import MultiLabelBinarizer\n",
    "from sklearn.model_selection import train_test_split\n",
    "from sklearn.multioutput import ClassifierChain\n",
    "from sklearn.multiclass import OneVsRestClassifier\n",
    "from sklearn.linear_model import LogisticRegression\n",
    "from sklearn.decomposition import LatentDirichletAllocation\n",
    "import sklearn.metrics as metrics\n",
    "from sklearn.model_selection import GridSearchCV, RandomizedSearchCV\n",
    "\n",
    "# Import des bibliothèques pour la visualisation de modèles et l'affichage dans Jupyter Notebook\n",
    "import pyLDAvis\n",
    "import pyLDAvis.gensim_models as gensimvis\n",
    "from IPython.core.display import display, HTML\n",
    "\n",
    "# Import des bibliothèques pour la sauvegarde et le chargement de modèles\n",
    "import pickle\n",
    "from gensim.models import FastText\n",
    "from gensim.models.doc2vec import Doc2Vec, TaggedDocument\n",
    "\n",
    "# Import des bibliothèques pour l'évaluation des modèles\n",
    "from sklearn.metrics import classification_report\n",
    "from sklearn.cluster import KMeans\n",
    "from sklearn.metrics import silhouette_score\n",
    "from sklearn.feature_extraction.text import CountVectorizer\n",
    "from sklearn.metrics import accuracy_score, f1_score\n",
    "\n",
    "# Import des bibliothèques pour le suivi des expériences de machine learning\n",
    "import mlflow\n",
    "import mlflow.sklearn\n",
    "import mlflow.pytorch\n",
    "import mlflow.tensorflow\n",
    "\n",
    "# Import des bibliothèques pour le traitement du langage naturel avec Transformers\n",
    "from transformers import BertTokenizer, BertModel\n",
    "\n",
    "# Import des bibliothèques pour l'utilisation de TensorFlow et TensorFlow Hub\n",
    "import tensorflow_hub as hub\n",
    "import tensorflow as tf\n"
   ]
  },
  {
   "cell_type": "code",
   "execution_count": 2,
   "id": "913652eb-ab90-4a1f-984f-5dbf4dad9a10",
   "metadata": {},
   "outputs": [
    {
     "name": "stderr",
     "output_type": "stream",
     "text": [
      "[nltk_data] Downloading package punkt to\n",
      "[nltk_data]     C:\\Users\\ouedraogo080976\\AppData\\Roaming\\nltk_data...\n",
      "[nltk_data]   Package punkt is already up-to-date!\n",
      "[nltk_data] Downloading package wordnet to\n",
      "[nltk_data]     C:\\Users\\ouedraogo080976\\AppData\\Roaming\\nltk_data...\n",
      "[nltk_data]   Package wordnet is already up-to-date!\n",
      "[nltk_data] Downloading package averaged_perceptron_tagger to\n",
      "[nltk_data]     C:\\Users\\ouedraogo080976\\AppData\\Roaming\\nltk_data...\n",
      "[nltk_data]   Package averaged_perceptron_tagger is already up-to-\n",
      "[nltk_data]       date!\n",
      "[nltk_data] Downloading package stopwords to\n",
      "[nltk_data]     C:\\Users\\ouedraogo080976\\AppData\\Roaming\\nltk_data...\n",
      "[nltk_data]   Package stopwords is already up-to-date!\n"
     ]
    },
    {
     "data": {
      "text/plain": [
       "True"
      ]
     },
     "execution_count": 2,
     "metadata": {},
     "output_type": "execute_result"
    }
   ],
   "source": [
    "# Téléchargement de la ressource nécessaire pour nltk\n",
    "nltk.download('punkt')\n",
    "nltk.download('wordnet')\n",
    "nltk.download('averaged_perceptron_tagger')\n",
    "nltk.download('stopwords')"
   ]
  },
  {
   "cell_type": "code",
   "execution_count": 3,
   "id": "c0b32c84-ac85-47db-bcdf-321330d64a6c",
   "metadata": {},
   "outputs": [],
   "source": [
    "data = pd.read_csv('dataclean.csv')"
   ]
  },
  {
   "cell_type": "code",
   "execution_count": 4,
   "id": "26d5d750-5e94-4013-b3c0-955b587044be",
   "metadata": {},
   "outputs": [
    {
     "data": {
      "text/html": [
       "<div>\n",
       "<style scoped>\n",
       "    .dataframe tbody tr th:only-of-type {\n",
       "        vertical-align: middle;\n",
       "    }\n",
       "\n",
       "    .dataframe tbody tr th {\n",
       "        vertical-align: top;\n",
       "    }\n",
       "\n",
       "    .dataframe thead th {\n",
       "        text-align: right;\n",
       "    }\n",
       "</style>\n",
       "<table border=\"1\" class=\"dataframe\">\n",
       "  <thead>\n",
       "    <tr style=\"text-align: right;\">\n",
       "      <th></th>\n",
       "      <th>Unnamed: 0</th>\n",
       "      <th>TitleBody</th>\n",
       "      <th>new_tags</th>\n",
       "      <th>TitleBody_bow</th>\n",
       "      <th>TitleBody_bow_lem</th>\n",
       "      <th>TitleBody_dl</th>\n",
       "    </tr>\n",
       "  </thead>\n",
       "  <tbody>\n",
       "    <tr>\n",
       "      <th>0</th>\n",
       "      <td>0</td>\n",
       "      <td>How to convert Decimal to Double in C\\n\\nI wan...</td>\n",
       "      <td>['c#']</td>\n",
       "      <td>how convert decimal double want assign decimal...</td>\n",
       "      <td>how convert decimal double want assign decimal...</td>\n",
       "      <td>how to convert decimal to double in c i want t...</td>\n",
       "    </tr>\n",
       "    <tr>\n",
       "      <th>1</th>\n",
       "      <td>1</td>\n",
       "      <td>Calculate relative time in C\\n\\nGiven a specif...</td>\n",
       "      <td>['c#']</td>\n",
       "      <td>calculate relative time given specific datetim...</td>\n",
       "      <td>calculate relative time given specific datetim...</td>\n",
       "      <td>calculate relative time in c given a specific ...</td>\n",
       "    </tr>\n",
       "    <tr>\n",
       "      <th>2</th>\n",
       "      <td>2</td>\n",
       "      <td>Determine a user s timezone\\n\\nIs there a stan...</td>\n",
       "      <td>['html']</td>\n",
       "      <td>determine user timezone standard way web serve...</td>\n",
       "      <td>determine user timezone standard way web serve...</td>\n",
       "      <td>determine a user s timezone is there a standar...</td>\n",
       "    </tr>\n",
       "    <tr>\n",
       "      <th>3</th>\n",
       "      <td>4</td>\n",
       "      <td>How to use the C socket API in C   on z OS\\n\\n...</td>\n",
       "      <td>['c++', 'c']</td>\n",
       "      <td>how use socket api issues getting sockets api ...</td>\n",
       "      <td>how use socket api issue getting socket api wo...</td>\n",
       "      <td>how to use the c socket api in c on z os i m h...</td>\n",
       "    </tr>\n",
       "    <tr>\n",
       "      <th>4</th>\n",
       "      <td>6</td>\n",
       "      <td>Decoding T SQL CAST in C  VB NET\\n\\nRecently o...</td>\n",
       "      <td>['c#']</td>\n",
       "      <td>decoding sql cast net recently site deluged re...</td>\n",
       "      <td>decoding sql cast net recently site deluged re...</td>\n",
       "      <td>decoding t sql cast in c vb net recently our s...</td>\n",
       "    </tr>\n",
       "  </tbody>\n",
       "</table>\n",
       "</div>"
      ],
      "text/plain": [
       "   Unnamed: 0                                          TitleBody  \\\n",
       "0           0  How to convert Decimal to Double in C\\n\\nI wan...   \n",
       "1           1  Calculate relative time in C\\n\\nGiven a specif...   \n",
       "2           2  Determine a user s timezone\\n\\nIs there a stan...   \n",
       "3           4  How to use the C socket API in C   on z OS\\n\\n...   \n",
       "4           6  Decoding T SQL CAST in C  VB NET\\n\\nRecently o...   \n",
       "\n",
       "       new_tags                                      TitleBody_bow  \\\n",
       "0        ['c#']  how convert decimal double want assign decimal...   \n",
       "1        ['c#']  calculate relative time given specific datetim...   \n",
       "2      ['html']  determine user timezone standard way web serve...   \n",
       "3  ['c++', 'c']  how use socket api issues getting sockets api ...   \n",
       "4        ['c#']  decoding sql cast net recently site deluged re...   \n",
       "\n",
       "                                   TitleBody_bow_lem  \\\n",
       "0  how convert decimal double want assign decimal...   \n",
       "1  calculate relative time given specific datetim...   \n",
       "2  determine user timezone standard way web serve...   \n",
       "3  how use socket api issue getting socket api wo...   \n",
       "4  decoding sql cast net recently site deluged re...   \n",
       "\n",
       "                                        TitleBody_dl  \n",
       "0  how to convert decimal to double in c i want t...  \n",
       "1  calculate relative time in c given a specific ...  \n",
       "2  determine a user s timezone is there a standar...  \n",
       "3  how to use the c socket api in c on z os i m h...  \n",
       "4  decoding t sql cast in c vb net recently our s...  "
      ]
     },
     "execution_count": 4,
     "metadata": {},
     "output_type": "execute_result"
    }
   ],
   "source": [
    "data.head()"
   ]
  },
  {
   "cell_type": "code",
   "execution_count": null,
   "id": "08cbc4d6-d678-407d-9598-40d996c830e2",
   "metadata": {},
   "outputs": [],
   "source": []
  },
  {
   "cell_type": "markdown",
   "id": "22b1e151-97a6-478e-8447-6276b802c034",
   "metadata": {},
   "source": [
    "### Bag of Words"
   ]
  },
  {
   "cell_type": "markdown",
   "id": "2fbccfbb-f763-4f8d-87a7-894f7260f97f",
   "metadata": {},
   "source": [
    "Le modèle Bag of Words apprend un vocabulaire à partir de tous les documents, puis modélise chaque document en comptant le nombre de fois où chaque mot apparaît, convertissant donc les données textuelles en données numériques.\n",
    "\n",
    "Le modèle Bag of Words est une approche simple pour représenter des textes en tant que vecteurs numériques. \n",
    "\n",
    "Dans ce modèle, un texte est représenté par un vecteur où chaque dimension correspond à un mot unique du vocabulaire et la valeur de chaque dimension représente la fréquence d'apparition de ce mot dans le texte. \n",
    "\n",
    "Le modèle ignore la structure grammaticale et l'ordre des mots, se concentrant uniquement sur les mots eux-mêmes et leur fréquence.\n",
    "\n",
    "Nous utilisons CountVectorizer pour transformer les textes en représentations vectorielles, puis comptons la fréquence des tokens."
   ]
  },
  {
   "cell_type": "code",
   "execution_count": 19,
   "id": "580d4a5c-007e-461a-aa58-6a1cc2aa418c",
   "metadata": {},
   "outputs": [
    {
     "name": "stdout",
     "output_type": "stream",
     "text": [
      "[('java', 31741), ('class', 27999), ('android', 27682), ('file', 26248), ('using', 26120), ('code', 22557), ('error', 21414), ('new', 20720), ('get', 20540), ('return', 19876)]\n"
     ]
    }
   ],
   "source": [
    "# Initialiser le vectorizer\n",
    "vectorizer = CountVectorizer()\n",
    "\n",
    "# Ajuster et transformer les données\n",
    "X_bow = vectorizer.fit_transform(data['TitleBody_bow_lem'])\n",
    "\n",
    "# Récupérer les mots du vocabulaire\n",
    "vocab = vectorizer.get_feature_names_out()\n",
    "\n",
    "# Compter la fréquence des tokens\n",
    "token_counts = X_bow.toarray().sum(axis=0)\n",
    "token_freq = dict(zip(vocab, token_counts))\n",
    "\n",
    "# Trier les tokens par fréquence décroissante\n",
    "sorted_token_freq = sorted(token_freq.items(), key=lambda x: x[1], reverse=True)\n",
    "\n",
    "# Afficher les 10 tokens lemmatisés les plus fréquents\n",
    "print(sorted_token_freq[:10])"
   ]
  },
  {
   "cell_type": "code",
   "execution_count": 20,
   "id": "5c9c598e-c088-4d8a-a1a8-495ab6cdce77",
   "metadata": {},
   "outputs": [
    {
     "data": {
      "image/png": "[encoded data removed]",
      "text/plain": [
       "<Figure size 1000x500 with 1 Axes>"
      ]
     },
     "metadata": {},
     "output_type": "display_data"
    }
   ],
   "source": [
    "# Extraire les tokens et leurs fréquences\n",
    "tokens, counts = zip(*sorted_token_freq[:10])\n",
    "\n",
    "# Créer le graphique à barres\n",
    "plt.figure(figsize=(10, 5))\n",
    "plt.bar(tokens, counts, color='skyblue')\n",
    "plt.xlabel('Tokens')\n",
    "plt.ylabel('Frequency')\n",
    "plt.title('Top 10 Lemmatized Tokens (Bag of Words)')\n",
    "plt.show()"
   ]
  },
  {
   "cell_type": "code",
   "execution_count": null,
   "id": "02474759-77c6-44aa-a116-e37b908d51f4",
   "metadata": {},
   "outputs": [],
   "source": []
  },
  {
   "cell_type": "markdown",
   "id": "f1e202a3-a439-4dfe-9074-692a0bcd4ada",
   "metadata": {},
   "source": [
    "## APPROCHE NON SUPERVISEE: LDA (Latent Dirichlet Allocation)"
   ]
  },
  {
   "cell_type": "markdown",
   "id": "fa389717-9fac-4c54-8163-4a06dc8505a4",
   "metadata": {},
   "source": [
    "### Contexte\n",
    "Nous allons ici développer un algorithme de Machine Learning destiné à assigner automatiquement plusieurs tags pertinents à une question posée sur le célébre site Stack overflow.     \n",
    "Ce programme s'adresse principalement aux nouveaux utilisateurs, afin de leur suggérer quelques tags relatifs à la question qu'ils souhaitent poser.\n",
    "\n",
    "### Les données sources\n",
    "Les données ont été cleanées dans le Notebook Exploration Dans ce nettoyage ont par exemple été appliquées les techniques de stop words, suppression de la ponctuation et des liens, tokenisation, lemmatisation ...\n",
    "\n",
    "### Objectif de ce Notebook\n",
    "Dans ce Notebook, nous allons traiter la partie **modélisation des données textuelles avec des modèles non supervisés**.   "
   ]
  },
  {
   "cell_type": "code",
   "execution_count": null,
   "id": "2f97651c-dbb5-44f5-acae-211b92fde383",
   "metadata": {},
   "outputs": [],
   "source": []
  },
  {
   "cell_type": "markdown",
   "id": "e43ad526-3764-4f63-84d7-3e92b3b59907",
   "metadata": {},
   "source": [
    "### Modèle LDA\n",
    "LDA, ou **Latent Derelicht Analysis** est un modèle probabiliste qui, pour obtenir des affectations de cluster, utilise deux valeurs de probabilité : $P(word | topics)$ et $P(topics | documents)$. Ces valeurs sont calculées sur la base d'une attribution aléatoire initiale, puis le calcul est répété pour chaque mot dans chaque document, pour décider de leur attribution de sujet. Dans cette méthode itérative, ces probabilités sont calculées plusieurs fois, jusqu'à la convergence de l'algorithme.\n",
    "\n",
    "Nous allons entrainer 1 seul modèle basé sur la variable `TitleBody_bow_lem` en utilisant la librairie spécialisée **Gensim**. Pour cette partie, nous n'utiliserons pas le preprocessing TFIDF mais des fonctions propres aux méthodes Gensim.\n"
   ]
  },
  {
   "cell_type": "markdown",
   "id": "bfb8dbd3-c98a-425a-abea-451aaa2c8f32",
   "metadata": {},
   "source": [
    "#### Bag of Words"
   ]
  },
  {
   "cell_type": "markdown",
   "id": "7ec4642b-6411-4a97-b1b9-9a28332cb5b3",
   "metadata": {},
   "source": []
  },
  {
   "cell_type": "code",
   "execution_count": 21,
   "id": "1df15543-5194-4879-abc8-09f6c0623c35",
   "metadata": {},
   "outputs": [
    {
     "name": "stdout",
     "output_type": "stream",
     "text": [
      "Topic 0: name, microsoft, using, var, xml, new, binding, value, string, system\n",
      "Topic 1: shape, def, panda, dataframe, column, numpy, import, data, self, model\n",
      "Topic 2: new, true, intent, activity, name, item, widget, app, view, android\n",
      "Topic 3: post, api, get, error, return, url, response, user, self, request\n",
      "Topic 4: script, site, using, lib, package, error, import, line, python, file\n",
      "Topic 5: need, time, one, code, the, way, use, would, using, like\n",
      "Topic 6: port, key, ssl, certificate, server, client, error, socket, connection, byte\n",
      "Topic 7: color, export, using, module, test, const, component, import, react, image\n",
      "Topic 8: file, require, path, new, std, loader, bar, webpack, foo, boost\n",
      "Topic 9: list, private, get, return, object, new, name, string, class, public\n",
      "Topic 10: add, command, import, 000, test, string, file, pdf, new, php\n",
      "Topic 11: device, error, usr, find, new, test, unknown, source, class, java\n",
      "Topic 12: boot, hibernate, com, bean, jar, apache, springframework, spring, org, java\n",
      "Topic 13: var, item, work, screen, date, element, window, video, event, view\n",
      "Topic 14: artifactid, groupid, library, plugin, error, file, dependency, project, build, version\n",
      "Topic 15: scala, code, excel, microsoft, file, project, window, dll, studio, visual\n",
      "Topic 16: include, code, class, const, void, type, return, function, std, int\n",
      "Topic 17: support, context, public, app, import, class, test, android, com, java\n",
      "Topic 18: data, form, page, type, button, function, html, text, class, div\n",
      "Topic 19: err, build, device, firebase, xcode, error, io, google, user, app\n"
     ]
    }
   ],
   "source": [
    "# Utiliser CountVectorizer pour transformer le texte en une matrice de termes\n",
    "vectorizer = CountVectorizer()\n",
    "X = vectorizer.fit_transform(data['TitleBody_bow_lem'])\n",
    "\n",
    "# Appliquer LDA\n",
    "lda = LatentDirichletAllocation(n_components=20, random_state=42)\n",
    "lda.fit(X)\n",
    "\n",
    "# Afficher les topics et les mots les plus représentatifs\n",
    "topics = []\n",
    "for idx, topic in enumerate(lda.components_):\n",
    "    topic_words = [vectorizer.get_feature_names_out()[i] for i in topic.argsort()[-10:]]\n",
    "    topics.append(topic_words)\n",
    "    print(f\"Topic {idx}: {', '.join(topic_words)}\")"
   ]
  },
  {
   "cell_type": "code",
   "execution_count": 22,
   "id": "ef30ea99-2a50-4f7e-872e-354dafe39fd7",
   "metadata": {},
   "outputs": [
    {
     "name": "stdout",
     "output_type": "stream",
     "text": [
      "Topic Keywords: ['name', 'shape', 'new', 'post', 'script', 'need', 'port', 'color', 'file', 'list', 'add', 'device', 'boot', 'var', 'artifactid', 'scala', 'include', 'support', 'data', 'err']\n",
      "Suggested Tags for the new question: need, time, one, code, the, way, use, would, using, like\n"
     ]
    }
   ],
   "source": [
    "# Fixer un mot représentatif par sujet\n",
    "topic_keywords = [topic[0] for topic in topics]\n",
    "print(\"Topic Keywords:\", topic_keywords)\n",
    "\n",
    "# Nouvelle question\n",
    "new_question = [\"How to start with neural networks in Python?\"]\n",
    "\n",
    "# Vectoriser la nouvelle question\n",
    "X_new = vectorizer.transform(new_question)\n",
    "\n",
    "# Transformer la nouvelle question dans l'espace des topics\n",
    "topic_distribution = lda.transform(X_new)\n",
    "\n",
    "# Obtenir le topic le plus dominant\n",
    "dominant_topic = np.argmax(topic_distribution)\n",
    "\n",
    "# Suggérer des tags basés sur le topic le plus dominant\n",
    "suggested_tags = topics[dominant_topic]\n",
    "print(f\"Suggested Tags for the new question: {', '.join(suggested_tags)}\")"
   ]
  },
  {
   "cell_type": "markdown",
   "id": "8b7cb4cf-fe3c-4de4-98b9-b612f8a397a5",
   "metadata": {},
   "source": [
    "### mlflow"
   ]
  },
  {
   "cell_type": "code",
   "execution_count": 23,
   "id": "01636c63-1aa6-4bf7-b7e3-c266d28310bf",
   "metadata": {},
   "outputs": [
    {
     "name": "stderr",
     "output_type": "stream",
     "text": [
      "2024/07/23 13:15:55 WARNING mlflow.utils.git_utils: Failed to import Git (the Git executable is probably not on your PATH), so Git SHA is not available. Error: Failed to initialize: Bad git executable.\n",
      "The git executable must be specified in one of the following ways:\n",
      "    - be included in your $PATH\n",
      "    - be set via $GIT_PYTHON_GIT_EXECUTABLE\n",
      "    - explicitly set via git.refresh()\n",
      "\n",
      "All git commands will error until this is rectified.\n",
      "\n",
      "This initial warning can be silenced or aggravated in the future by setting the\n",
      "$GIT_PYTHON_REFRESH environment variable. Use one of the following values:\n",
      "    - quiet|q|silence|s|none|n|0: for no warning or exception\n",
      "    - warn|w|warning|1: for a printed warning\n",
      "    - error|e|raise|r|2: for a raised exception\n",
      "\n",
      "Example:\n",
      "    export GIT_PYTHON_REFRESH=quiet\n",
      "\n"
     ]
    },
    {
     "name": "stdout",
     "output_type": "stream",
     "text": [
      "Topic 0: style, var, function, width, html, button, value, text, class, div\n",
      "Topic 1: gradle, spring, dependency, version, apache, springframework, jar, com, org, java\n",
      "Topic 2: item, name, string, true, activity, new, view, app, com, android\n",
      "Topic 3: lib, error, url, line, response, return, file, request, user, self\n",
      "Topic 4: code, script, import, get, data, using, function, python, error, file\n",
      "Topic 5: need, time, one, code, the, way, use, would, using, like\n",
      "Topic 6: xcode, version, project, usr, file, library, lib, app, build, error\n",
      "Topic 7: code, app, new, using, component, module, test, import, react, image\n",
      "Topic 8: foo, include, void, const, class, return, type, function, std, int\n"
     ]
    },
    {
     "name": "stderr",
     "output_type": "stream",
     "text": [
      "C:\\Users\\ouedraogo080976\\AppData\\Local\\anaconda\\Lib\\site-packages\\mlflow\\models\\model.py:321: DeprecationWarning: datetime.datetime.utcnow() is deprecated and scheduled for removal in a future version. Use timezone-aware objects to represent datetimes in UTC: datetime.datetime.now(datetime.UTC).\n",
      "  self.utc_time_created = str(utc_time_created or datetime.utcnow())\n",
      "2024/07/23 13:19:49 WARNING mlflow.sklearn: Model was missing function: predict. Not logging python_function flavor!\n"
     ]
    },
    {
     "name": "stdout",
     "output_type": "stream",
     "text": [
      "Topic 9: method, get, private, object, return, name, new, string, class, public\n",
      "Topic Keywords: ['style', 'gradle', 'item', 'lib', 'code', 'need', 'xcode', 'code', 'foo', 'method']\n",
      "Suggested Tags for the new question: need, time, one, code, the, way, use, would, using, like\n"
     ]
    },
    {
     "name": "stderr",
     "output_type": "stream",
     "text": [
      "C:\\Users\\ouedraogo080976\\AppData\\Local\\anaconda\\Lib\\site-packages\\mlflow\\models\\model.py:321: DeprecationWarning: datetime.datetime.utcnow() is deprecated and scheduled for removal in a future version. Use timezone-aware objects to represent datetimes in UTC: datetime.datetime.now(datetime.UTC).\n",
      "  self.utc_time_created = str(utc_time_created or datetime.utcnow())\n",
      "2024/07/23 13:19:57 WARNING mlflow.sklearn: Model was missing function: predict. Not logging python_function flavor!\n"
     ]
    }
   ],
   "source": [
    "# Définir l'URI de suivi MLflow et le nom de l'expérience\n",
    "mlflow.set_tracking_uri(\"http://127.0.0.1:5000\")  # Définir l'URI de suivi MLflow\n",
    "mlflow.set_experiment(\"Bag of Words NON_Supervised\")  # Définir le nom de votre expérience MLflow\n",
    "\n",
    "# Assurez-vous que les données data['TitleBody_Lem_Str'] sont définies avant cette section.\n",
    "\n",
    "# Débuter une nouvelle session de suivi avec MLflow\n",
    "with mlflow.start_run():\n",
    "    # Utiliser CountVectorizer pour transformer le texte en une matrice de termes\n",
    "    vectorizer = CountVectorizer()\n",
    "    X = vectorizer.fit_transform(data['TitleBody_bow_lem'])\n",
    "\n",
    "    # Appliquer LDA\n",
    "    lda = LatentDirichletAllocation(n_components=10, random_state=42)\n",
    "    lda.fit(X)\n",
    "\n",
    "    # Afficher les topics et les mots les plus représentatifs\n",
    "    topics = []\n",
    "    for idx, topic in enumerate(lda.components_):\n",
    "        topic_words = [vectorizer.get_feature_names_out()[i] for i in topic.argsort()[-10:]]\n",
    "        topics.append(topic_words)\n",
    "        print(f\"Topic {idx}: {', '.join(topic_words)}\")\n",
    "\n",
    "    # Fixer un mot représentatif par sujet\n",
    "    topic_keywords = [topic[0] for topic in topics]\n",
    "    print(\"Topic Keywords:\", topic_keywords)\n",
    "\n",
    "    # Enregistrer les résultats des topics et mots les plus représentatifs dans MLflow\n",
    "    for idx, topic_words in enumerate(topics):\n",
    "        mlflow.log_param(f\"topic_{idx}_words\", ', '.join(topic_words))\n",
    "    \n",
    "    mlflow.log_param(\"topic_keywords\", ', '.join(topic_keywords))\n",
    "\n",
    "    # Nouvelle question\n",
    "    new_question = [\"How to start with neural networks in Python?\"]\n",
    "\n",
    "    # Vectoriser la nouvelle question\n",
    "    X_new = vectorizer.transform(new_question)\n",
    "\n",
    "    # Transformer la nouvelle question dans l'espace des topics\n",
    "    topic_distribution = lda.transform(X_new)\n",
    "\n",
    "    # Obtenir le topic le plus dominant\n",
    "    dominant_topic = np.argmax(topic_distribution)\n",
    "\n",
    "    # Suggérer des tags basés sur le topic le plus dominant\n",
    "    suggested_tags = topics[dominant_topic]\n",
    "    print(f\"Suggested Tags for the new question: {', '.join(suggested_tags)}\")\n",
    "\n",
    "    # Enregistrer les résultats des suggestions dans MLflow\n",
    "    mlflow.log_param(\"dominant_topic\", dominant_topic)\n",
    "    mlflow.log_param(\"suggested_tags\", ', '.join(suggested_tags))\n",
    "\n",
    "    # Enregistrer le modèle LDA et le vectorizer dans MLflow\n",
    "    mlflow.sklearn.log_model(lda, \"lda_model\")\n",
    "    mlflow.sklearn.log_model(vectorizer, \"vectorizer\")\n",
    "\n",
    "# Pour visualiser les résultats, exécutez `mlflow ui` dans votre terminal et allez à l'adresse http://localhost:5000."
   ]
  },
  {
   "cell_type": "markdown",
   "id": "bbb64743-0e31-45c3-bb2a-dd8191192c2f",
   "metadata": {},
   "source": [
    "#### Note:\n",
    "On remarque ici que la modélisation non supervisée avec LDA n'est pas adaptée. En effet, le meilleur nombre de topics se situerait à partir de 10, mais l'algorithme ne parvient pas a établir de groupes bien distincts. Un certain nombre de topics sont très regroupés et donc représentés par les mêmes termes."
   ]
  },
  {
   "cell_type": "code",
   "execution_count": null,
   "id": "cc0833a0-39a3-48d1-8c64-aa5e67bdee42",
   "metadata": {},
   "outputs": [],
   "source": []
  }
 ],
 "metadata": {
  "kernelspec": {
   "display_name": "Python 3 (ipykernel)",
   "language": "python",
   "name": "python3"
  },
  "language_info": {
   "codemirror_mode": {
    "name": "ipython",
    "version": 3
   },
   "file_extension": ".py",
   "mimetype": "text/x-python",
   "name": "python",
   "nbconvert_exporter": "python",
   "pygments_lexer": "ipython3",
   "version": "3.12.4"
  }
 },
 "nbformat": 4,
 "nbformat_minor": 5
}
